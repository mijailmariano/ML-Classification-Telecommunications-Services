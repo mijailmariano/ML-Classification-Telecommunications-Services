{
 "cells": [
  {
   "cell_type": "markdown",
   "metadata": {},
   "source": [
    "### Classification Module: Telco Assignment \n",
    "*Artifact: Working Jupyter Notebook*\n",
    "\n",
    "        date: Monday, July 11th 2022\n",
    "\n",
    "----"
   ]
  },
  {
   "cell_type": "markdown",
   "metadata": {},
   "source": [
    "#### <u>Importing Modules</u>"
   ]
  },
  {
   "cell_type": "code",
   "execution_count": 322,
   "metadata": {},
   "outputs": [],
   "source": [
    "# tabular data modules:\n",
    "import pandas as pd\n",
    "from skimpy import clean_columns\n",
    "\n",
    "# math modules:\n",
    "import numpy as np\n",
    "\n",
    "# visualization modules:\n",
    "import seaborn as sns\n",
    "import matplotlib.pyplot as plt\n",
    "%matplotlib inline\n",
    "plt.rcParams['figure.figsize'] = (10, 5)\n",
    "\n",
    "# created modules\n",
    "from wrangle import get_telco_data, clean_telco_data\n",
    "import env\n",
    "from env import user, password, host, get_connection"
   ]
  },
  {
   "cell_type": "markdown",
   "metadata": {},
   "source": [
    "----"
   ]
  },
  {
   "cell_type": "code",
   "execution_count": 323,
   "metadata": {},
   "outputs": [],
   "source": [
    "telco_df = get_telco_data()"
   ]
  },
  {
   "cell_type": "code",
   "execution_count": 324,
   "metadata": {},
   "outputs": [
    {
     "data": {
      "text/plain": [
       "pandas.core.frame.DataFrame"
      ]
     },
     "execution_count": 324,
     "metadata": {},
     "output_type": "execute_result"
    }
   ],
   "source": [
    "type(telco_df)"
   ]
  },
  {
   "cell_type": "code",
   "execution_count": 325,
   "metadata": {},
   "outputs": [
    {
     "data": {
      "text/html": [
       "<div>\n",
       "<style scoped>\n",
       "    .dataframe tbody tr th:only-of-type {\n",
       "        vertical-align: middle;\n",
       "    }\n",
       "\n",
       "    .dataframe tbody tr th {\n",
       "        vertical-align: top;\n",
       "    }\n",
       "\n",
       "    .dataframe thead th {\n",
       "        text-align: right;\n",
       "    }\n",
       "</style>\n",
       "<table border=\"1\" class=\"dataframe\">\n",
       "  <thead>\n",
       "    <tr style=\"text-align: right;\">\n",
       "      <th></th>\n",
       "      <th>internet_service_type_id</th>\n",
       "      <th>internet_service_type</th>\n",
       "      <th>payment_type_id</th>\n",
       "      <th>payment_type</th>\n",
       "      <th>contract_type_id</th>\n",
       "      <th>contract_type</th>\n",
       "      <th>customer_id</th>\n",
       "      <th>gender</th>\n",
       "      <th>senior_citizen</th>\n",
       "      <th>partner</th>\n",
       "      <th>...</th>\n",
       "      <th>online_security</th>\n",
       "      <th>online_backup</th>\n",
       "      <th>device_protection</th>\n",
       "      <th>tech_support</th>\n",
       "      <th>streaming_tv</th>\n",
       "      <th>streaming_movies</th>\n",
       "      <th>paperless_billing</th>\n",
       "      <th>monthly_charges</th>\n",
       "      <th>total_charges</th>\n",
       "      <th>churn</th>\n",
       "    </tr>\n",
       "  </thead>\n",
       "  <tbody>\n",
       "    <tr>\n",
       "      <th>0</th>\n",
       "      <td>1</td>\n",
       "      <td>DSL</td>\n",
       "      <td>2</td>\n",
       "      <td>Mailed check</td>\n",
       "      <td>2</td>\n",
       "      <td>One year</td>\n",
       "      <td>0002-ORFBO</td>\n",
       "      <td>Female</td>\n",
       "      <td>0</td>\n",
       "      <td>Yes</td>\n",
       "      <td>...</td>\n",
       "      <td>No</td>\n",
       "      <td>Yes</td>\n",
       "      <td>No</td>\n",
       "      <td>Yes</td>\n",
       "      <td>Yes</td>\n",
       "      <td>No</td>\n",
       "      <td>Yes</td>\n",
       "      <td>65.60</td>\n",
       "      <td>593.3</td>\n",
       "      <td>No</td>\n",
       "    </tr>\n",
       "    <tr>\n",
       "      <th>1</th>\n",
       "      <td>1</td>\n",
       "      <td>DSL</td>\n",
       "      <td>2</td>\n",
       "      <td>Mailed check</td>\n",
       "      <td>1</td>\n",
       "      <td>Month-to-month</td>\n",
       "      <td>0003-MKNFE</td>\n",
       "      <td>Male</td>\n",
       "      <td>0</td>\n",
       "      <td>No</td>\n",
       "      <td>...</td>\n",
       "      <td>No</td>\n",
       "      <td>No</td>\n",
       "      <td>No</td>\n",
       "      <td>No</td>\n",
       "      <td>No</td>\n",
       "      <td>Yes</td>\n",
       "      <td>No</td>\n",
       "      <td>59.90</td>\n",
       "      <td>542.4</td>\n",
       "      <td>No</td>\n",
       "    </tr>\n",
       "    <tr>\n",
       "      <th>2</th>\n",
       "      <td>1</td>\n",
       "      <td>DSL</td>\n",
       "      <td>4</td>\n",
       "      <td>Credit card (automatic)</td>\n",
       "      <td>1</td>\n",
       "      <td>Month-to-month</td>\n",
       "      <td>0013-MHZWF</td>\n",
       "      <td>Female</td>\n",
       "      <td>0</td>\n",
       "      <td>No</td>\n",
       "      <td>...</td>\n",
       "      <td>No</td>\n",
       "      <td>No</td>\n",
       "      <td>No</td>\n",
       "      <td>Yes</td>\n",
       "      <td>Yes</td>\n",
       "      <td>Yes</td>\n",
       "      <td>Yes</td>\n",
       "      <td>69.40</td>\n",
       "      <td>571.45</td>\n",
       "      <td>No</td>\n",
       "    </tr>\n",
       "    <tr>\n",
       "      <th>3</th>\n",
       "      <td>1</td>\n",
       "      <td>DSL</td>\n",
       "      <td>1</td>\n",
       "      <td>Electronic check</td>\n",
       "      <td>1</td>\n",
       "      <td>Month-to-month</td>\n",
       "      <td>0015-UOCOJ</td>\n",
       "      <td>Female</td>\n",
       "      <td>1</td>\n",
       "      <td>No</td>\n",
       "      <td>...</td>\n",
       "      <td>Yes</td>\n",
       "      <td>No</td>\n",
       "      <td>No</td>\n",
       "      <td>No</td>\n",
       "      <td>No</td>\n",
       "      <td>No</td>\n",
       "      <td>Yes</td>\n",
       "      <td>48.20</td>\n",
       "      <td>340.35</td>\n",
       "      <td>No</td>\n",
       "    </tr>\n",
       "    <tr>\n",
       "      <th>4</th>\n",
       "      <td>1</td>\n",
       "      <td>DSL</td>\n",
       "      <td>2</td>\n",
       "      <td>Mailed check</td>\n",
       "      <td>3</td>\n",
       "      <td>Two year</td>\n",
       "      <td>0016-QLJIS</td>\n",
       "      <td>Female</td>\n",
       "      <td>0</td>\n",
       "      <td>Yes</td>\n",
       "      <td>...</td>\n",
       "      <td>Yes</td>\n",
       "      <td>Yes</td>\n",
       "      <td>Yes</td>\n",
       "      <td>Yes</td>\n",
       "      <td>Yes</td>\n",
       "      <td>Yes</td>\n",
       "      <td>Yes</td>\n",
       "      <td>90.45</td>\n",
       "      <td>5957.9</td>\n",
       "      <td>No</td>\n",
       "    </tr>\n",
       "  </tbody>\n",
       "</table>\n",
       "<p>5 rows × 24 columns</p>\n",
       "</div>"
      ],
      "text/plain": [
       "   internet_service_type_id internet_service_type  payment_type_id  \\\n",
       "0                         1                   DSL                2   \n",
       "1                         1                   DSL                2   \n",
       "2                         1                   DSL                4   \n",
       "3                         1                   DSL                1   \n",
       "4                         1                   DSL                2   \n",
       "\n",
       "              payment_type  contract_type_id   contract_type customer_id  \\\n",
       "0             Mailed check                 2        One year  0002-ORFBO   \n",
       "1             Mailed check                 1  Month-to-month  0003-MKNFE   \n",
       "2  Credit card (automatic)                 1  Month-to-month  0013-MHZWF   \n",
       "3         Electronic check                 1  Month-to-month  0015-UOCOJ   \n",
       "4             Mailed check                 3        Two year  0016-QLJIS   \n",
       "\n",
       "   gender  senior_citizen partner  ... online_security  online_backup  \\\n",
       "0  Female               0     Yes  ...              No            Yes   \n",
       "1    Male               0      No  ...              No             No   \n",
       "2  Female               0      No  ...              No             No   \n",
       "3  Female               1      No  ...             Yes             No   \n",
       "4  Female               0     Yes  ...             Yes            Yes   \n",
       "\n",
       "  device_protection tech_support streaming_tv streaming_movies  \\\n",
       "0                No          Yes          Yes               No   \n",
       "1                No           No           No              Yes   \n",
       "2                No          Yes          Yes              Yes   \n",
       "3                No           No           No               No   \n",
       "4               Yes          Yes          Yes              Yes   \n",
       "\n",
       "  paperless_billing monthly_charges total_charges churn  \n",
       "0               Yes           65.60         593.3    No  \n",
       "1                No           59.90         542.4    No  \n",
       "2               Yes           69.40        571.45    No  \n",
       "3               Yes           48.20        340.35    No  \n",
       "4               Yes           90.45        5957.9    No  \n",
       "\n",
       "[5 rows x 24 columns]"
      ]
     },
     "execution_count": 325,
     "metadata": {},
     "output_type": "execute_result"
    }
   ],
   "source": [
    "telco_df.head()"
   ]
  },
  {
   "cell_type": "code",
   "execution_count": 326,
   "metadata": {},
   "outputs": [
    {
     "data": {
      "text/plain": [
       "(7043, 24)"
      ]
     },
     "execution_count": 326,
     "metadata": {},
     "output_type": "execute_result"
    }
   ],
   "source": [
    "# initial dataframe shape\n",
    "\n",
    "initial_shape = telco_df.shape\n",
    "initial_shape"
   ]
  },
  {
   "cell_type": "code",
   "execution_count": 327,
   "metadata": {},
   "outputs": [
    {
     "data": {
      "text/html": [
       "<div>\n",
       "<style scoped>\n",
       "    .dataframe tbody tr th:only-of-type {\n",
       "        vertical-align: middle;\n",
       "    }\n",
       "\n",
       "    .dataframe tbody tr th {\n",
       "        vertical-align: top;\n",
       "    }\n",
       "\n",
       "    .dataframe thead th {\n",
       "        text-align: right;\n",
       "    }\n",
       "</style>\n",
       "<table border=\"1\" class=\"dataframe\">\n",
       "  <thead>\n",
       "    <tr style=\"text-align: right;\">\n",
       "      <th></th>\n",
       "      <th>internet_service_type_id</th>\n",
       "      <th>internet_service_type</th>\n",
       "      <th>payment_type_id</th>\n",
       "      <th>payment_type</th>\n",
       "      <th>contract_type_id</th>\n",
       "      <th>contract_type</th>\n",
       "      <th>customer_id</th>\n",
       "      <th>gender</th>\n",
       "      <th>senior_citizen</th>\n",
       "      <th>partner</th>\n",
       "      <th>...</th>\n",
       "      <th>online_security</th>\n",
       "      <th>online_backup</th>\n",
       "      <th>device_protection</th>\n",
       "      <th>tech_support</th>\n",
       "      <th>streaming_tv</th>\n",
       "      <th>streaming_movies</th>\n",
       "      <th>paperless_billing</th>\n",
       "      <th>monthly_charges</th>\n",
       "      <th>total_charges</th>\n",
       "      <th>churn</th>\n",
       "    </tr>\n",
       "  </thead>\n",
       "  <tbody>\n",
       "    <tr>\n",
       "      <th>0</th>\n",
       "      <td>1</td>\n",
       "      <td>DSL</td>\n",
       "      <td>2</td>\n",
       "      <td>Mailed check</td>\n",
       "      <td>2</td>\n",
       "      <td>One year</td>\n",
       "      <td>0002-ORFBO</td>\n",
       "      <td>Female</td>\n",
       "      <td>0</td>\n",
       "      <td>Yes</td>\n",
       "      <td>...</td>\n",
       "      <td>No</td>\n",
       "      <td>Yes</td>\n",
       "      <td>No</td>\n",
       "      <td>Yes</td>\n",
       "      <td>Yes</td>\n",
       "      <td>No</td>\n",
       "      <td>Yes</td>\n",
       "      <td>65.60</td>\n",
       "      <td>593.3</td>\n",
       "      <td>No</td>\n",
       "    </tr>\n",
       "    <tr>\n",
       "      <th>1</th>\n",
       "      <td>1</td>\n",
       "      <td>DSL</td>\n",
       "      <td>2</td>\n",
       "      <td>Mailed check</td>\n",
       "      <td>1</td>\n",
       "      <td>Month-to-month</td>\n",
       "      <td>0003-MKNFE</td>\n",
       "      <td>Male</td>\n",
       "      <td>0</td>\n",
       "      <td>No</td>\n",
       "      <td>...</td>\n",
       "      <td>No</td>\n",
       "      <td>No</td>\n",
       "      <td>No</td>\n",
       "      <td>No</td>\n",
       "      <td>No</td>\n",
       "      <td>Yes</td>\n",
       "      <td>No</td>\n",
       "      <td>59.90</td>\n",
       "      <td>542.4</td>\n",
       "      <td>No</td>\n",
       "    </tr>\n",
       "    <tr>\n",
       "      <th>2</th>\n",
       "      <td>1</td>\n",
       "      <td>DSL</td>\n",
       "      <td>4</td>\n",
       "      <td>Credit card (automatic)</td>\n",
       "      <td>1</td>\n",
       "      <td>Month-to-month</td>\n",
       "      <td>0013-MHZWF</td>\n",
       "      <td>Female</td>\n",
       "      <td>0</td>\n",
       "      <td>No</td>\n",
       "      <td>...</td>\n",
       "      <td>No</td>\n",
       "      <td>No</td>\n",
       "      <td>No</td>\n",
       "      <td>Yes</td>\n",
       "      <td>Yes</td>\n",
       "      <td>Yes</td>\n",
       "      <td>Yes</td>\n",
       "      <td>69.40</td>\n",
       "      <td>571.45</td>\n",
       "      <td>No</td>\n",
       "    </tr>\n",
       "    <tr>\n",
       "      <th>3</th>\n",
       "      <td>1</td>\n",
       "      <td>DSL</td>\n",
       "      <td>1</td>\n",
       "      <td>Electronic check</td>\n",
       "      <td>1</td>\n",
       "      <td>Month-to-month</td>\n",
       "      <td>0015-UOCOJ</td>\n",
       "      <td>Female</td>\n",
       "      <td>1</td>\n",
       "      <td>No</td>\n",
       "      <td>...</td>\n",
       "      <td>Yes</td>\n",
       "      <td>No</td>\n",
       "      <td>No</td>\n",
       "      <td>No</td>\n",
       "      <td>No</td>\n",
       "      <td>No</td>\n",
       "      <td>Yes</td>\n",
       "      <td>48.20</td>\n",
       "      <td>340.35</td>\n",
       "      <td>No</td>\n",
       "    </tr>\n",
       "    <tr>\n",
       "      <th>4</th>\n",
       "      <td>1</td>\n",
       "      <td>DSL</td>\n",
       "      <td>2</td>\n",
       "      <td>Mailed check</td>\n",
       "      <td>3</td>\n",
       "      <td>Two year</td>\n",
       "      <td>0016-QLJIS</td>\n",
       "      <td>Female</td>\n",
       "      <td>0</td>\n",
       "      <td>Yes</td>\n",
       "      <td>...</td>\n",
       "      <td>Yes</td>\n",
       "      <td>Yes</td>\n",
       "      <td>Yes</td>\n",
       "      <td>Yes</td>\n",
       "      <td>Yes</td>\n",
       "      <td>Yes</td>\n",
       "      <td>Yes</td>\n",
       "      <td>90.45</td>\n",
       "      <td>5957.9</td>\n",
       "      <td>No</td>\n",
       "    </tr>\n",
       "  </tbody>\n",
       "</table>\n",
       "<p>5 rows × 24 columns</p>\n",
       "</div>"
      ],
      "text/plain": [
       "   internet_service_type_id internet_service_type  payment_type_id  \\\n",
       "0                         1                   DSL                2   \n",
       "1                         1                   DSL                2   \n",
       "2                         1                   DSL                4   \n",
       "3                         1                   DSL                1   \n",
       "4                         1                   DSL                2   \n",
       "\n",
       "              payment_type  contract_type_id   contract_type customer_id  \\\n",
       "0             Mailed check                 2        One year  0002-ORFBO   \n",
       "1             Mailed check                 1  Month-to-month  0003-MKNFE   \n",
       "2  Credit card (automatic)                 1  Month-to-month  0013-MHZWF   \n",
       "3         Electronic check                 1  Month-to-month  0015-UOCOJ   \n",
       "4             Mailed check                 3        Two year  0016-QLJIS   \n",
       "\n",
       "   gender  senior_citizen partner  ... online_security  online_backup  \\\n",
       "0  Female               0     Yes  ...              No            Yes   \n",
       "1    Male               0      No  ...              No             No   \n",
       "2  Female               0      No  ...              No             No   \n",
       "3  Female               1      No  ...             Yes             No   \n",
       "4  Female               0     Yes  ...             Yes            Yes   \n",
       "\n",
       "  device_protection tech_support streaming_tv streaming_movies  \\\n",
       "0                No          Yes          Yes               No   \n",
       "1                No           No           No              Yes   \n",
       "2                No          Yes          Yes              Yes   \n",
       "3                No           No           No               No   \n",
       "4               Yes          Yes          Yes              Yes   \n",
       "\n",
       "  paperless_billing monthly_charges total_charges churn  \n",
       "0               Yes           65.60         593.3    No  \n",
       "1                No           59.90         542.4    No  \n",
       "2               Yes           69.40        571.45    No  \n",
       "3               Yes           48.20        340.35    No  \n",
       "4               Yes           90.45        5957.9    No  \n",
       "\n",
       "[5 rows x 24 columns]"
      ]
     },
     "execution_count": 327,
     "metadata": {},
     "output_type": "execute_result"
    }
   ],
   "source": [
    "telco_df.head()"
   ]
  },
  {
   "cell_type": "code",
   "execution_count": 328,
   "metadata": {},
   "outputs": [],
   "source": [
    "# using the wrangle.py clean_telco_data function to clean the telco dataset\n",
    "telco_df = clean_telco_data(telco_df)"
   ]
  },
  {
   "cell_type": "code",
   "execution_count": 329,
   "metadata": {},
   "outputs": [
    {
     "data": {
      "text/html": [
       "<div>\n",
       "<style scoped>\n",
       "    .dataframe tbody tr th:only-of-type {\n",
       "        vertical-align: middle;\n",
       "    }\n",
       "\n",
       "    .dataframe tbody tr th {\n",
       "        vertical-align: top;\n",
       "    }\n",
       "\n",
       "    .dataframe thead th {\n",
       "        text-align: right;\n",
       "    }\n",
       "</style>\n",
       "<table border=\"1\" class=\"dataframe\">\n",
       "  <thead>\n",
       "    <tr style=\"text-align: right;\">\n",
       "      <th></th>\n",
       "      <th>internet_service_type</th>\n",
       "      <th>payment_type</th>\n",
       "      <th>contract_type</th>\n",
       "      <th>customer_id</th>\n",
       "      <th>gender</th>\n",
       "      <th>senior_citizen</th>\n",
       "      <th>partner</th>\n",
       "      <th>dependents</th>\n",
       "      <th>tenure</th>\n",
       "      <th>phone_service</th>\n",
       "      <th>...</th>\n",
       "      <th>online_security</th>\n",
       "      <th>online_backup</th>\n",
       "      <th>device_protection</th>\n",
       "      <th>tech_support</th>\n",
       "      <th>streaming_tv</th>\n",
       "      <th>streaming_movies</th>\n",
       "      <th>paperless_billing</th>\n",
       "      <th>monthly_charges</th>\n",
       "      <th>total_charges</th>\n",
       "      <th>churn</th>\n",
       "    </tr>\n",
       "  </thead>\n",
       "  <tbody>\n",
       "    <tr>\n",
       "      <th>0</th>\n",
       "      <td>DSL</td>\n",
       "      <td>Mailed Check</td>\n",
       "      <td>One Year</td>\n",
       "      <td>0002-ORFBO</td>\n",
       "      <td>Female</td>\n",
       "      <td>False</td>\n",
       "      <td>Yes</td>\n",
       "      <td>Yes</td>\n",
       "      <td>9</td>\n",
       "      <td>Yes</td>\n",
       "      <td>...</td>\n",
       "      <td>No</td>\n",
       "      <td>Yes</td>\n",
       "      <td>No</td>\n",
       "      <td>Yes</td>\n",
       "      <td>Yes</td>\n",
       "      <td>No</td>\n",
       "      <td>Yes</td>\n",
       "      <td>65.60</td>\n",
       "      <td>593.30</td>\n",
       "      <td>No</td>\n",
       "    </tr>\n",
       "    <tr>\n",
       "      <th>1</th>\n",
       "      <td>DSL</td>\n",
       "      <td>Mailed Check</td>\n",
       "      <td>Month-to-Month</td>\n",
       "      <td>0003-MKNFE</td>\n",
       "      <td>Male</td>\n",
       "      <td>False</td>\n",
       "      <td>No</td>\n",
       "      <td>No</td>\n",
       "      <td>9</td>\n",
       "      <td>Yes</td>\n",
       "      <td>...</td>\n",
       "      <td>No</td>\n",
       "      <td>No</td>\n",
       "      <td>No</td>\n",
       "      <td>No</td>\n",
       "      <td>No</td>\n",
       "      <td>Yes</td>\n",
       "      <td>No</td>\n",
       "      <td>59.90</td>\n",
       "      <td>542.40</td>\n",
       "      <td>No</td>\n",
       "    </tr>\n",
       "    <tr>\n",
       "      <th>2</th>\n",
       "      <td>DSL</td>\n",
       "      <td>Credit Card (automatic)</td>\n",
       "      <td>Month-to-Month</td>\n",
       "      <td>0013-MHZWF</td>\n",
       "      <td>Female</td>\n",
       "      <td>False</td>\n",
       "      <td>No</td>\n",
       "      <td>Yes</td>\n",
       "      <td>9</td>\n",
       "      <td>Yes</td>\n",
       "      <td>...</td>\n",
       "      <td>No</td>\n",
       "      <td>No</td>\n",
       "      <td>No</td>\n",
       "      <td>Yes</td>\n",
       "      <td>Yes</td>\n",
       "      <td>Yes</td>\n",
       "      <td>Yes</td>\n",
       "      <td>69.40</td>\n",
       "      <td>571.45</td>\n",
       "      <td>No</td>\n",
       "    </tr>\n",
       "    <tr>\n",
       "      <th>3</th>\n",
       "      <td>DSL</td>\n",
       "      <td>E-Check</td>\n",
       "      <td>Month-to-Month</td>\n",
       "      <td>0015-UOCOJ</td>\n",
       "      <td>Female</td>\n",
       "      <td>True</td>\n",
       "      <td>No</td>\n",
       "      <td>No</td>\n",
       "      <td>7</td>\n",
       "      <td>Yes</td>\n",
       "      <td>...</td>\n",
       "      <td>Yes</td>\n",
       "      <td>No</td>\n",
       "      <td>No</td>\n",
       "      <td>No</td>\n",
       "      <td>No</td>\n",
       "      <td>No</td>\n",
       "      <td>Yes</td>\n",
       "      <td>48.20</td>\n",
       "      <td>340.35</td>\n",
       "      <td>No</td>\n",
       "    </tr>\n",
       "    <tr>\n",
       "      <th>4</th>\n",
       "      <td>DSL</td>\n",
       "      <td>Mailed Check</td>\n",
       "      <td>Two Year</td>\n",
       "      <td>0016-QLJIS</td>\n",
       "      <td>Female</td>\n",
       "      <td>False</td>\n",
       "      <td>Yes</td>\n",
       "      <td>Yes</td>\n",
       "      <td>65</td>\n",
       "      <td>Yes</td>\n",
       "      <td>...</td>\n",
       "      <td>Yes</td>\n",
       "      <td>Yes</td>\n",
       "      <td>Yes</td>\n",
       "      <td>Yes</td>\n",
       "      <td>Yes</td>\n",
       "      <td>Yes</td>\n",
       "      <td>Yes</td>\n",
       "      <td>90.45</td>\n",
       "      <td>5957.90</td>\n",
       "      <td>No</td>\n",
       "    </tr>\n",
       "  </tbody>\n",
       "</table>\n",
       "<p>5 rows × 21 columns</p>\n",
       "</div>"
      ],
      "text/plain": [
       "  internet_service_type             payment_type   contract_type customer_id  \\\n",
       "0                   DSL             Mailed Check        One Year  0002-ORFBO   \n",
       "1                   DSL             Mailed Check  Month-to-Month  0003-MKNFE   \n",
       "2                   DSL  Credit Card (automatic)  Month-to-Month  0013-MHZWF   \n",
       "3                   DSL                  E-Check  Month-to-Month  0015-UOCOJ   \n",
       "4                   DSL             Mailed Check        Two Year  0016-QLJIS   \n",
       "\n",
       "   gender  senior_citizen partner dependents  tenure phone_service  ...  \\\n",
       "0  Female           False     Yes        Yes       9           Yes  ...   \n",
       "1    Male           False      No         No       9           Yes  ...   \n",
       "2  Female           False      No        Yes       9           Yes  ...   \n",
       "3  Female            True      No         No       7           Yes  ...   \n",
       "4  Female           False     Yes        Yes      65           Yes  ...   \n",
       "\n",
       "  online_security online_backup device_protection tech_support streaming_tv  \\\n",
       "0              No           Yes                No          Yes          Yes   \n",
       "1              No            No                No           No           No   \n",
       "2              No            No                No          Yes          Yes   \n",
       "3             Yes            No                No           No           No   \n",
       "4             Yes           Yes               Yes          Yes          Yes   \n",
       "\n",
       "  streaming_movies paperless_billing monthly_charges  total_charges  churn  \n",
       "0               No               Yes           65.60         593.30     No  \n",
       "1              Yes                No           59.90         542.40     No  \n",
       "2              Yes               Yes           69.40         571.45     No  \n",
       "3               No               Yes           48.20         340.35     No  \n",
       "4              Yes               Yes           90.45        5957.90     No  \n",
       "\n",
       "[5 rows x 21 columns]"
      ]
     },
     "execution_count": 329,
     "metadata": {},
     "output_type": "execute_result"
    }
   ],
   "source": [
    "telco_df.head()"
   ]
  },
  {
   "cell_type": "code",
   "execution_count": 330,
   "metadata": {},
   "outputs": [
    {
     "data": {
      "text/plain": [
       "21"
      ]
     },
     "execution_count": 330,
     "metadata": {},
     "output_type": "execute_result"
    }
   ],
   "source": [
    "telco_df.columns.nunique() # after dropping unneeded columns"
   ]
  },
  {
   "cell_type": "code",
   "execution_count": 331,
   "metadata": {},
   "outputs": [],
   "source": [
    "# creating dummy variables for categorical columns/features\n",
    "\n",
    "categorical_lst = [\n",
    "        'internet_service_type', \\\n",
    "       'payment_type', \\\n",
    "       'contract_type', \\\n",
    "       'gender', \\\n",
    "       'partner', \\\n",
    "       'dependents', \\\n",
    "       'phone_service', \\\n",
    "       'multiple_lines', \\\n",
    "       'online_security', \\\n",
    "       'online_backup', \\\n",
    "       'device_protection', \\\n",
    "       'tech_support', \\\n",
    "       'streaming_tv', \\\n",
    "       'streaming_movies', \\\n",
    "       'paperless_billing']\n",
    "\n",
    "dummy_df = pd.get_dummies(telco_df[categorical_lst], drop_first=True)\n",
    "dummy_df = clean_columns(dummy_df, case = \"snake\") # cleaning column names for uniformity\n",
    "telco_df = pd.concat([telco_df, dummy_df], axis = 1)"
   ]
  },
  {
   "cell_type": "code",
   "execution_count": 332,
   "metadata": {},
   "outputs": [
    {
     "name": "stdout",
     "output_type": "stream",
     "text": [
      "Initial Telco Dataframe shape: (7043, 24)\n",
      "Secondary Telco Dataframe shape: (7043, 47)\n"
     ]
    }
   ],
   "source": [
    "dummy_shape = telco_df.shape\n",
    "\n",
    "print(f'Initial Telco Dataframe shape: {initial_shape}')\n",
    "print(f'Secondary Telco Dataframe shape: {dummy_shape}')"
   ]
  },
  {
   "cell_type": "code",
   "execution_count": 333,
   "metadata": {},
   "outputs": [
    {
     "data": {
      "text/html": [
       "<div>\n",
       "<style scoped>\n",
       "    .dataframe tbody tr th:only-of-type {\n",
       "        vertical-align: middle;\n",
       "    }\n",
       "\n",
       "    .dataframe tbody tr th {\n",
       "        vertical-align: top;\n",
       "    }\n",
       "\n",
       "    .dataframe thead th {\n",
       "        text-align: right;\n",
       "    }\n",
       "</style>\n",
       "<table border=\"1\" class=\"dataframe\">\n",
       "  <thead>\n",
       "    <tr style=\"text-align: right;\">\n",
       "      <th></th>\n",
       "      <th>internet_service_type</th>\n",
       "      <th>payment_type</th>\n",
       "      <th>contract_type</th>\n",
       "      <th>customer_id</th>\n",
       "      <th>gender</th>\n",
       "      <th>senior_citizen</th>\n",
       "      <th>partner</th>\n",
       "      <th>dependents</th>\n",
       "      <th>tenure</th>\n",
       "      <th>phone_service</th>\n",
       "      <th>...</th>\n",
       "      <th>online_backup_yes</th>\n",
       "      <th>device_protection_no_internet_service</th>\n",
       "      <th>device_protection_yes</th>\n",
       "      <th>tech_support_no_internet_service</th>\n",
       "      <th>tech_support_yes</th>\n",
       "      <th>streaming_tv_no_internet_service</th>\n",
       "      <th>streaming_tv_yes</th>\n",
       "      <th>streaming_movies_no_internet_service</th>\n",
       "      <th>streaming_movies_yes</th>\n",
       "      <th>paperless_billing_yes</th>\n",
       "    </tr>\n",
       "  </thead>\n",
       "  <tbody>\n",
       "    <tr>\n",
       "      <th>0</th>\n",
       "      <td>DSL</td>\n",
       "      <td>Mailed Check</td>\n",
       "      <td>One Year</td>\n",
       "      <td>0002-ORFBO</td>\n",
       "      <td>Female</td>\n",
       "      <td>False</td>\n",
       "      <td>Yes</td>\n",
       "      <td>Yes</td>\n",
       "      <td>9</td>\n",
       "      <td>Yes</td>\n",
       "      <td>...</td>\n",
       "      <td>1</td>\n",
       "      <td>0</td>\n",
       "      <td>0</td>\n",
       "      <td>0</td>\n",
       "      <td>1</td>\n",
       "      <td>0</td>\n",
       "      <td>1</td>\n",
       "      <td>0</td>\n",
       "      <td>0</td>\n",
       "      <td>1</td>\n",
       "    </tr>\n",
       "    <tr>\n",
       "      <th>1</th>\n",
       "      <td>DSL</td>\n",
       "      <td>Mailed Check</td>\n",
       "      <td>Month-to-Month</td>\n",
       "      <td>0003-MKNFE</td>\n",
       "      <td>Male</td>\n",
       "      <td>False</td>\n",
       "      <td>No</td>\n",
       "      <td>No</td>\n",
       "      <td>9</td>\n",
       "      <td>Yes</td>\n",
       "      <td>...</td>\n",
       "      <td>0</td>\n",
       "      <td>0</td>\n",
       "      <td>0</td>\n",
       "      <td>0</td>\n",
       "      <td>0</td>\n",
       "      <td>0</td>\n",
       "      <td>0</td>\n",
       "      <td>0</td>\n",
       "      <td>1</td>\n",
       "      <td>0</td>\n",
       "    </tr>\n",
       "    <tr>\n",
       "      <th>2</th>\n",
       "      <td>DSL</td>\n",
       "      <td>Credit Card (automatic)</td>\n",
       "      <td>Month-to-Month</td>\n",
       "      <td>0013-MHZWF</td>\n",
       "      <td>Female</td>\n",
       "      <td>False</td>\n",
       "      <td>No</td>\n",
       "      <td>Yes</td>\n",
       "      <td>9</td>\n",
       "      <td>Yes</td>\n",
       "      <td>...</td>\n",
       "      <td>0</td>\n",
       "      <td>0</td>\n",
       "      <td>0</td>\n",
       "      <td>0</td>\n",
       "      <td>1</td>\n",
       "      <td>0</td>\n",
       "      <td>1</td>\n",
       "      <td>0</td>\n",
       "      <td>1</td>\n",
       "      <td>1</td>\n",
       "    </tr>\n",
       "    <tr>\n",
       "      <th>3</th>\n",
       "      <td>DSL</td>\n",
       "      <td>E-Check</td>\n",
       "      <td>Month-to-Month</td>\n",
       "      <td>0015-UOCOJ</td>\n",
       "      <td>Female</td>\n",
       "      <td>True</td>\n",
       "      <td>No</td>\n",
       "      <td>No</td>\n",
       "      <td>7</td>\n",
       "      <td>Yes</td>\n",
       "      <td>...</td>\n",
       "      <td>0</td>\n",
       "      <td>0</td>\n",
       "      <td>0</td>\n",
       "      <td>0</td>\n",
       "      <td>0</td>\n",
       "      <td>0</td>\n",
       "      <td>0</td>\n",
       "      <td>0</td>\n",
       "      <td>0</td>\n",
       "      <td>1</td>\n",
       "    </tr>\n",
       "    <tr>\n",
       "      <th>4</th>\n",
       "      <td>DSL</td>\n",
       "      <td>Mailed Check</td>\n",
       "      <td>Two Year</td>\n",
       "      <td>0016-QLJIS</td>\n",
       "      <td>Female</td>\n",
       "      <td>False</td>\n",
       "      <td>Yes</td>\n",
       "      <td>Yes</td>\n",
       "      <td>65</td>\n",
       "      <td>Yes</td>\n",
       "      <td>...</td>\n",
       "      <td>1</td>\n",
       "      <td>0</td>\n",
       "      <td>1</td>\n",
       "      <td>0</td>\n",
       "      <td>1</td>\n",
       "      <td>0</td>\n",
       "      <td>1</td>\n",
       "      <td>0</td>\n",
       "      <td>1</td>\n",
       "      <td>1</td>\n",
       "    </tr>\n",
       "  </tbody>\n",
       "</table>\n",
       "<p>5 rows × 47 columns</p>\n",
       "</div>"
      ],
      "text/plain": [
       "  internet_service_type             payment_type   contract_type customer_id  \\\n",
       "0                   DSL             Mailed Check        One Year  0002-ORFBO   \n",
       "1                   DSL             Mailed Check  Month-to-Month  0003-MKNFE   \n",
       "2                   DSL  Credit Card (automatic)  Month-to-Month  0013-MHZWF   \n",
       "3                   DSL                  E-Check  Month-to-Month  0015-UOCOJ   \n",
       "4                   DSL             Mailed Check        Two Year  0016-QLJIS   \n",
       "\n",
       "   gender  senior_citizen partner dependents  tenure phone_service  ...  \\\n",
       "0  Female           False     Yes        Yes       9           Yes  ...   \n",
       "1    Male           False      No         No       9           Yes  ...   \n",
       "2  Female           False      No        Yes       9           Yes  ...   \n",
       "3  Female            True      No         No       7           Yes  ...   \n",
       "4  Female           False     Yes        Yes      65           Yes  ...   \n",
       "\n",
       "  online_backup_yes device_protection_no_internet_service  \\\n",
       "0                 1                                     0   \n",
       "1                 0                                     0   \n",
       "2                 0                                     0   \n",
       "3                 0                                     0   \n",
       "4                 1                                     0   \n",
       "\n",
       "  device_protection_yes tech_support_no_internet_service tech_support_yes  \\\n",
       "0                     0                                0                1   \n",
       "1                     0                                0                0   \n",
       "2                     0                                0                1   \n",
       "3                     0                                0                0   \n",
       "4                     1                                0                1   \n",
       "\n",
       "  streaming_tv_no_internet_service streaming_tv_yes  \\\n",
       "0                                0                1   \n",
       "1                                0                0   \n",
       "2                                0                1   \n",
       "3                                0                0   \n",
       "4                                0                1   \n",
       "\n",
       "  streaming_movies_no_internet_service  streaming_movies_yes  \\\n",
       "0                                    0                     0   \n",
       "1                                    0                     1   \n",
       "2                                    0                     1   \n",
       "3                                    0                     0   \n",
       "4                                    0                     1   \n",
       "\n",
       "   paperless_billing_yes  \n",
       "0                      1  \n",
       "1                      0  \n",
       "2                      1  \n",
       "3                      1  \n",
       "4                      1  \n",
       "\n",
       "[5 rows x 47 columns]"
      ]
     },
     "execution_count": 333,
     "metadata": {},
     "output_type": "execute_result"
    }
   ],
   "source": [
    "telco_df.head()"
   ]
  },
  {
   "cell_type": "code",
   "execution_count": 334,
   "metadata": {},
   "outputs": [
    {
     "data": {
      "text/plain": [
       "uint8      26\n",
       "object     17\n",
       "float64     2\n",
       "bool        1\n",
       "int64       1\n",
       "dtype: int64"
      ]
     },
     "execution_count": 334,
     "metadata": {},
     "output_type": "execute_result"
    }
   ],
   "source": [
    "telco_df.dtypes.value_counts()"
   ]
  },
  {
   "cell_type": "code",
   "execution_count": 335,
   "metadata": {},
   "outputs": [],
   "source": [
    "# converting dummy columns \"uint8\" to \"boolean\" type\n",
    "\n",
    "col_names = telco_df.select_dtypes(include = \"uint8\").columns\n",
    "telco_df[col_names] = telco_df[col_names].astype(bool)"
   ]
  },
  {
   "cell_type": "code",
   "execution_count": 336,
   "metadata": {},
   "outputs": [
    {
     "data": {
      "text/html": [
       "<div>\n",
       "<style scoped>\n",
       "    .dataframe tbody tr th:only-of-type {\n",
       "        vertical-align: middle;\n",
       "    }\n",
       "\n",
       "    .dataframe tbody tr th {\n",
       "        vertical-align: top;\n",
       "    }\n",
       "\n",
       "    .dataframe thead th {\n",
       "        text-align: right;\n",
       "    }\n",
       "</style>\n",
       "<table border=\"1\" class=\"dataframe\">\n",
       "  <thead>\n",
       "    <tr style=\"text-align: right;\">\n",
       "      <th></th>\n",
       "      <th>internet_service_type</th>\n",
       "      <th>payment_type</th>\n",
       "      <th>contract_type</th>\n",
       "      <th>customer_id</th>\n",
       "      <th>gender</th>\n",
       "      <th>senior_citizen</th>\n",
       "      <th>partner</th>\n",
       "      <th>dependents</th>\n",
       "      <th>tenure</th>\n",
       "      <th>phone_service</th>\n",
       "      <th>...</th>\n",
       "      <th>online_backup_yes</th>\n",
       "      <th>device_protection_no_internet_service</th>\n",
       "      <th>device_protection_yes</th>\n",
       "      <th>tech_support_no_internet_service</th>\n",
       "      <th>tech_support_yes</th>\n",
       "      <th>streaming_tv_no_internet_service</th>\n",
       "      <th>streaming_tv_yes</th>\n",
       "      <th>streaming_movies_no_internet_service</th>\n",
       "      <th>streaming_movies_yes</th>\n",
       "      <th>paperless_billing_yes</th>\n",
       "    </tr>\n",
       "  </thead>\n",
       "  <tbody>\n",
       "    <tr>\n",
       "      <th>0</th>\n",
       "      <td>DSL</td>\n",
       "      <td>Mailed Check</td>\n",
       "      <td>One Year</td>\n",
       "      <td>0002-ORFBO</td>\n",
       "      <td>Female</td>\n",
       "      <td>False</td>\n",
       "      <td>Yes</td>\n",
       "      <td>Yes</td>\n",
       "      <td>9</td>\n",
       "      <td>Yes</td>\n",
       "      <td>...</td>\n",
       "      <td>True</td>\n",
       "      <td>False</td>\n",
       "      <td>False</td>\n",
       "      <td>False</td>\n",
       "      <td>True</td>\n",
       "      <td>False</td>\n",
       "      <td>True</td>\n",
       "      <td>False</td>\n",
       "      <td>False</td>\n",
       "      <td>True</td>\n",
       "    </tr>\n",
       "    <tr>\n",
       "      <th>1</th>\n",
       "      <td>DSL</td>\n",
       "      <td>Mailed Check</td>\n",
       "      <td>Month-to-Month</td>\n",
       "      <td>0003-MKNFE</td>\n",
       "      <td>Male</td>\n",
       "      <td>False</td>\n",
       "      <td>No</td>\n",
       "      <td>No</td>\n",
       "      <td>9</td>\n",
       "      <td>Yes</td>\n",
       "      <td>...</td>\n",
       "      <td>False</td>\n",
       "      <td>False</td>\n",
       "      <td>False</td>\n",
       "      <td>False</td>\n",
       "      <td>False</td>\n",
       "      <td>False</td>\n",
       "      <td>False</td>\n",
       "      <td>False</td>\n",
       "      <td>True</td>\n",
       "      <td>False</td>\n",
       "    </tr>\n",
       "    <tr>\n",
       "      <th>2</th>\n",
       "      <td>DSL</td>\n",
       "      <td>Credit Card (automatic)</td>\n",
       "      <td>Month-to-Month</td>\n",
       "      <td>0013-MHZWF</td>\n",
       "      <td>Female</td>\n",
       "      <td>False</td>\n",
       "      <td>No</td>\n",
       "      <td>Yes</td>\n",
       "      <td>9</td>\n",
       "      <td>Yes</td>\n",
       "      <td>...</td>\n",
       "      <td>False</td>\n",
       "      <td>False</td>\n",
       "      <td>False</td>\n",
       "      <td>False</td>\n",
       "      <td>True</td>\n",
       "      <td>False</td>\n",
       "      <td>True</td>\n",
       "      <td>False</td>\n",
       "      <td>True</td>\n",
       "      <td>True</td>\n",
       "    </tr>\n",
       "    <tr>\n",
       "      <th>3</th>\n",
       "      <td>DSL</td>\n",
       "      <td>E-Check</td>\n",
       "      <td>Month-to-Month</td>\n",
       "      <td>0015-UOCOJ</td>\n",
       "      <td>Female</td>\n",
       "      <td>True</td>\n",
       "      <td>No</td>\n",
       "      <td>No</td>\n",
       "      <td>7</td>\n",
       "      <td>Yes</td>\n",
       "      <td>...</td>\n",
       "      <td>False</td>\n",
       "      <td>False</td>\n",
       "      <td>False</td>\n",
       "      <td>False</td>\n",
       "      <td>False</td>\n",
       "      <td>False</td>\n",
       "      <td>False</td>\n",
       "      <td>False</td>\n",
       "      <td>False</td>\n",
       "      <td>True</td>\n",
       "    </tr>\n",
       "    <tr>\n",
       "      <th>4</th>\n",
       "      <td>DSL</td>\n",
       "      <td>Mailed Check</td>\n",
       "      <td>Two Year</td>\n",
       "      <td>0016-QLJIS</td>\n",
       "      <td>Female</td>\n",
       "      <td>False</td>\n",
       "      <td>Yes</td>\n",
       "      <td>Yes</td>\n",
       "      <td>65</td>\n",
       "      <td>Yes</td>\n",
       "      <td>...</td>\n",
       "      <td>True</td>\n",
       "      <td>False</td>\n",
       "      <td>True</td>\n",
       "      <td>False</td>\n",
       "      <td>True</td>\n",
       "      <td>False</td>\n",
       "      <td>True</td>\n",
       "      <td>False</td>\n",
       "      <td>True</td>\n",
       "      <td>True</td>\n",
       "    </tr>\n",
       "  </tbody>\n",
       "</table>\n",
       "<p>5 rows × 47 columns</p>\n",
       "</div>"
      ],
      "text/plain": [
       "  internet_service_type             payment_type   contract_type customer_id  \\\n",
       "0                   DSL             Mailed Check        One Year  0002-ORFBO   \n",
       "1                   DSL             Mailed Check  Month-to-Month  0003-MKNFE   \n",
       "2                   DSL  Credit Card (automatic)  Month-to-Month  0013-MHZWF   \n",
       "3                   DSL                  E-Check  Month-to-Month  0015-UOCOJ   \n",
       "4                   DSL             Mailed Check        Two Year  0016-QLJIS   \n",
       "\n",
       "   gender  senior_citizen partner dependents  tenure phone_service  ...  \\\n",
       "0  Female           False     Yes        Yes       9           Yes  ...   \n",
       "1    Male           False      No         No       9           Yes  ...   \n",
       "2  Female           False      No        Yes       9           Yes  ...   \n",
       "3  Female            True      No         No       7           Yes  ...   \n",
       "4  Female           False     Yes        Yes      65           Yes  ...   \n",
       "\n",
       "  online_backup_yes device_protection_no_internet_service  \\\n",
       "0              True                                 False   \n",
       "1             False                                 False   \n",
       "2             False                                 False   \n",
       "3             False                                 False   \n",
       "4              True                                 False   \n",
       "\n",
       "  device_protection_yes tech_support_no_internet_service tech_support_yes  \\\n",
       "0                 False                            False             True   \n",
       "1                 False                            False            False   \n",
       "2                 False                            False             True   \n",
       "3                 False                            False            False   \n",
       "4                  True                            False             True   \n",
       "\n",
       "  streaming_tv_no_internet_service streaming_tv_yes  \\\n",
       "0                            False             True   \n",
       "1                            False            False   \n",
       "2                            False             True   \n",
       "3                            False            False   \n",
       "4                            False             True   \n",
       "\n",
       "  streaming_movies_no_internet_service  streaming_movies_yes  \\\n",
       "0                                False                 False   \n",
       "1                                False                  True   \n",
       "2                                False                  True   \n",
       "3                                False                 False   \n",
       "4                                False                  True   \n",
       "\n",
       "   paperless_billing_yes  \n",
       "0                   True  \n",
       "1                  False  \n",
       "2                   True  \n",
       "3                   True  \n",
       "4                   True  \n",
       "\n",
       "[5 rows x 47 columns]"
      ]
     },
     "execution_count": 336,
     "metadata": {},
     "output_type": "execute_result"
    }
   ],
   "source": [
    "telco_df.head()"
   ]
  },
  {
   "cell_type": "code",
   "execution_count": 337,
   "metadata": {},
   "outputs": [],
   "source": [
    "cat_lst = telco_df.select_dtypes(include = \"object\").columns"
   ]
  },
  {
   "cell_type": "code",
   "execution_count": 338,
   "metadata": {},
   "outputs": [],
   "source": [
    "cat_lst = cat_lst.drop([\"customer_id\"])"
   ]
  },
  {
   "cell_type": "code",
   "execution_count": 339,
   "metadata": {},
   "outputs": [
    {
     "data": {
      "text/plain": [
       "Index(['internet_service_type', 'payment_type', 'contract_type', 'gender',\n",
       "       'partner', 'dependents', 'phone_service', 'multiple_lines',\n",
       "       'online_security', 'online_backup', 'device_protection', 'tech_support',\n",
       "       'streaming_tv', 'streaming_movies', 'paperless_billing', 'churn'],\n",
       "      dtype='object')"
      ]
     },
     "execution_count": 339,
     "metadata": {},
     "output_type": "execute_result"
    }
   ],
   "source": [
    "cat_lst"
   ]
  },
  {
   "cell_type": "code",
   "execution_count": 340,
   "metadata": {},
   "outputs": [
    {
     "data": {
      "text/plain": [
       "16"
      ]
     },
     "execution_count": 340,
     "metadata": {},
     "output_type": "execute_result"
    }
   ],
   "source": [
    "cat_lst.nunique()"
   ]
  },
  {
   "cell_type": "code",
   "execution_count": 341,
   "metadata": {},
   "outputs": [
    {
     "name": "stdout",
     "output_type": "stream",
     "text": [
      "Unique internet_service_type's count: 3\n",
      "['DSL' 'Fiber Optic' 'No internet service'] \n",
      "\n",
      "Unique payment_type's count: 4\n",
      "['Mailed Check' 'Credit Card (automatic)' 'E-Check'\n",
      " 'Bank Transfer (automatic'] \n",
      "\n",
      "Unique contract_type's count: 3\n",
      "['One Year' 'Month-to-Month' 'Two Year'] \n",
      "\n",
      "Unique gender's count: 2\n",
      "['Female' 'Male'] \n",
      "\n",
      "Unique partner's count: 2\n",
      "['Yes' 'No'] \n",
      "\n",
      "Unique dependents's count: 2\n",
      "['Yes' 'No'] \n",
      "\n",
      "Unique phone_service's count: 2\n",
      "['Yes' 'No'] \n",
      "\n",
      "Unique multiple_lines's count: 3\n",
      "['No' 'Yes' 'No phone service'] \n",
      "\n",
      "Unique online_security's count: 3\n",
      "['No' 'Yes' 'No internet service'] \n",
      "\n",
      "Unique online_backup's count: 3\n",
      "['Yes' 'No' 'No internet service'] \n",
      "\n",
      "Unique device_protection's count: 3\n",
      "['No' 'Yes' 'No internet service'] \n",
      "\n",
      "Unique tech_support's count: 3\n",
      "['Yes' 'No' 'No internet service'] \n",
      "\n",
      "Unique streaming_tv's count: 3\n",
      "['Yes' 'No' 'No internet service'] \n",
      "\n",
      "Unique streaming_movies's count: 3\n",
      "['No' 'Yes' 'No internet service'] \n",
      "\n",
      "Unique paperless_billing's count: 2\n",
      "['Yes' 'No'] \n",
      "\n",
      "Unique churn's count: 2\n",
      "['No' 'Yes'] \n",
      "\n"
     ]
    }
   ],
   "source": [
    "# printing unique values per column using a for loop \n",
    "\n",
    "for column in telco_df[cat_lst]:\n",
    "    print(f\"Unique {column}'s count: {telco_df[column].nunique()}\")\n",
    "    print(f'{telco_df[column].unique()}', \"\\n\")"
   ]
  },
  {
   "cell_type": "code",
   "execution_count": 342,
   "metadata": {},
   "outputs": [
    {
     "data": {
      "text/plain": [
       "array(['Mailed Check', 'Credit Card (automatic)', 'E-Check',\n",
       "       'Bank Transfer (automatic'], dtype=object)"
      ]
     },
     "execution_count": 342,
     "metadata": {},
     "output_type": "execute_result"
    }
   ],
   "source": [
    "telco_df[\"payment_type\"].unique()"
   ]
  },
  {
   "cell_type": "code",
   "execution_count": 343,
   "metadata": {},
   "outputs": [],
   "source": [
    "telco_df[\"payment_type\"] = telco_df[\"payment_type\"].replace({\n",
    "       'Mailed check': \"Mailed Check\", \\\n",
    "       'Credit card (automatic)': \"Credit Card (automatic)\", \\\n",
    "       'Electronic check': \"E-Check\", \\\n",
    "       'Bank transfer (automatic)': \"Bank Transfer (automatic\"})"
   ]
  },
  {
   "cell_type": "code",
   "execution_count": 344,
   "metadata": {},
   "outputs": [
    {
     "data": {
      "text/plain": [
       "array(['Mailed Check', 'Credit Card (automatic)', 'E-Check',\n",
       "       'Bank Transfer (automatic'], dtype=object)"
      ]
     },
     "execution_count": 344,
     "metadata": {},
     "output_type": "execute_result"
    }
   ],
   "source": [
    "telco_df[\"payment_type\"].unique()"
   ]
  },
  {
   "cell_type": "markdown",
   "metadata": {},
   "source": [
    "----\n",
    "\n",
    "### Univariable Plotting of Categorical Columns by Frequency\n",
    "\n",
    "1869 total Churn customers*"
   ]
  },
  {
   "cell_type": "code",
   "execution_count": 345,
   "metadata": {},
   "outputs": [
    {
     "data": {
      "image/png": "[encoded data removed]",
      "text/plain": [
       "<Figure size 864x432 with 1 Axes>"
      ]
     },
     "metadata": {
      "needs_background": "light"
     },
     "output_type": "display_data"
    },
    {
     "data": {
      "image/png": "[encoded data removed]",
      "text/plain": [
       "<Figure size 864x432 with 1 Axes>"
      ]
     },
     "metadata": {},
     "output_type": "display_data"
    },
    {
     "data": {
      "image/png": "[encoded data removed]",
      "text/plain": [
       "<Figure size 864x432 with 1 Axes>"
      ]
     },
     "metadata": {},
     "output_type": "display_data"
    },
    {
     "data": {
      "image/png": "[encoded data removed]",
      "text/plain": [
       "<Figure size 864x432 with 1 Axes>"
      ]
     },
     "metadata": {},
     "output_type": "display_data"
    },
    {
     "data": {
      "image/png": "[encoded data removed]",
      "text/plain": [
       "<Figure size 864x432 with 1 Axes>"
      ]
     },
     "metadata": {},
     "output_type": "display_data"
    },
    {
     "data": {
      "image/png": "[encoded data removed]",
      "text/plain": [
       "<Figure size 864x432 with 1 Axes>"
      ]
     },
     "metadata": {},
     "output_type": "display_data"
    },
    {
     "data": {
      "image/png": "[encoded data removed]",
      "text/plain": [
       "<Figure size 864x432 with 1 Axes>"
      ]
     },
     "metadata": {},
     "output_type": "display_data"
    },
    {
     "data": {
      "image/png": "[encoded data removed]",
      "text/plain": [
       "<Figure size 864x432 with 1 Axes>"
      ]
     },
     "metadata": {},
     "output_type": "display_data"
    },
    {
     "data": {
      "image/png": "[encoded data removed]",
      "text/plain": [
       "<Figure size 864x432 with 1 Axes>"
      ]
     },
     "metadata": {},
     "output_type": "display_data"
    },
    {
     "data": {
      "image/png": "[encoded data removed]",
      "text/plain": [
       "<Figure size 864x432 with 1 Axes>"
      ]
     },
     "metadata": {},
     "output_type": "display_data"
    },
    {
     "data": {
      "image/png": "[encoded data removed]",
      "text/plain": [
       "<Figure size 864x432 with 1 Axes>"
      ]
     },
     "metadata": {},
     "output_type": "display_data"
    },
    {
     "data": {
      "image/png": "[encoded data removed]",
      "text/plain": [
       "<Figure size 864x432 with 1 Axes>"
      ]
     },
     "metadata": {},
     "output_type": "display_data"
    },
    {
     "data": {
      "image/png": "[encoded data removed]",
      "text/plain": [
       "<Figure size 864x432 with 1 Axes>"
      ]
     },
     "metadata": {},
     "output_type": "display_data"
    },
    {
     "data": {
      "image/png": "[encoded data removed]",
      "text/plain": [
       "<Figure size 864x432 with 1 Axes>"
      ]
     },
     "metadata": {},
     "output_type": "display_data"
    },
    {
     "data": {
      "image/png": "[encoded data removed]",
      "text/plain": [
       "<Figure size 864x432 with 1 Axes>"
      ]
     },
     "metadata": {},
     "output_type": "display_data"
    },
    {
     "data": {
      "image/png": "[encoded data removed]",
      "text/plain": [
       "<Figure size 864x432 with 1 Axes>"
      ]
     },
     "metadata": {},
     "output_type": "display_data"
    }
   ],
   "source": [
    "for column in telco_df[cat_lst]:\n",
    "    if telco_df[column].dtype != \"int\" or telco_df[column].dtype != \"float\":\n",
    "        plt.figure(figsize=(12, 6))\n",
    "        sns.set(font_scale = 1)\n",
    "        ax = sns.countplot(x = column, \n",
    "                        data = telco_df,\n",
    "                        palette = \"crest\",\n",
    "                        order = telco_df[column].value_counts().index)\n",
    "        ax.bar_label(ax.containers[0])\n",
    "        ax.set(xlabel=None)\n",
    "        plt.title(column)\n",
    "        plt.show()"
   ]
  },
  {
   "cell_type": "code",
   "execution_count": 346,
   "metadata": {},
   "outputs": [],
   "source": [
    "telco_df[\"churn\"] = telco_df[\"churn\"].replace({\"No\": 0, \"Yes\": 1}).astype(\"bool\")"
   ]
  },
  {
   "cell_type": "code",
   "execution_count": 347,
   "metadata": {},
   "outputs": [
    {
     "data": {
      "text/plain": [
       "0.265"
      ]
     },
     "execution_count": 347,
     "metadata": {},
     "output_type": "execute_result"
    }
   ],
   "source": [
    "churn_rate = round(telco_df[\"churn\"].mean(), 3)\n",
    "churn_rate"
   ]
  },
  {
   "cell_type": "code",
   "execution_count": 416,
   "metadata": {},
   "outputs": [
    {
     "data": {
      "text/plain": [
       "Text(0.5, 0, 'Churned')"
      ]
     },
     "execution_count": 416,
     "metadata": {},
     "output_type": "execute_result"
    },
    {
     "data": {
      "image/png": "[encoded data removed]",
      "text/plain": [
       "<Figure size 576x576 with 1 Axes>"
      ]
     },
     "metadata": {},
     "output_type": "display_data"
    }
   ],
   "source": [
    "plt.figure(figsize=(8, 8))\n",
    "sns.set(font_scale = 1)\n",
    "ax = sns.countplot(x = \"churn\", \n",
    "    data = telco_df,\n",
    "    order = train[\"churn\"].value_counts().index,\n",
    "    palette = \"crest\")\n",
    "\n",
    "ax.bar_label(ax.containers[0])\n",
    "plt.xticks(rotation = 0)\n",
    "plt.title(f\"Overall churn rate: {churn_rate:.2%}\")\n",
    "plt.xlabel(\"Churned\")"
   ]
  },
  {
   "cell_type": "markdown",
   "metadata": {},
   "source": [
    "----\n",
    "### Univariable Plotting of Conteneous/numerical Columns by Frequency\n"
   ]
  },
  {
   "cell_type": "code",
   "execution_count": 349,
   "metadata": {},
   "outputs": [
    {
     "data": {
      "text/plain": [
       "internet_service_type                         object\n",
       "payment_type                                  object\n",
       "contract_type                                 object\n",
       "customer_id                                   object\n",
       "gender                                        object\n",
       "senior_citizen                                  bool\n",
       "partner                                       object\n",
       "dependents                                    object\n",
       "tenure                                         int64\n",
       "phone_service                                 object\n",
       "multiple_lines                                object\n",
       "online_security                               object\n",
       "online_backup                                 object\n",
       "device_protection                             object\n",
       "tech_support                                  object\n",
       "streaming_tv                                  object\n",
       "streaming_movies                              object\n",
       "paperless_billing                             object\n",
       "monthly_charges                              float64\n",
       "total_charges                                float64\n",
       "churn                                           bool\n",
       "internet_service_type_fiber_optic               bool\n",
       "internet_service_type_no_internet_service       bool\n",
       "payment_type_credit_card_automatic              bool\n",
       "payment_type_e_check                            bool\n",
       "payment_type_mailed_check                       bool\n",
       "contract_type_one_year                          bool\n",
       "contract_type_two_year                          bool\n",
       "gender_male                                     bool\n",
       "partner_yes                                     bool\n",
       "dependents_yes                                  bool\n",
       "phone_service_yes                               bool\n",
       "multiple_lines_no_phone_service                 bool\n",
       "multiple_lines_yes                              bool\n",
       "online_security_no_internet_service             bool\n",
       "online_security_yes                             bool\n",
       "online_backup_no_internet_service               bool\n",
       "online_backup_yes                               bool\n",
       "device_protection_no_internet_service           bool\n",
       "device_protection_yes                           bool\n",
       "tech_support_no_internet_service                bool\n",
       "tech_support_yes                                bool\n",
       "streaming_tv_no_internet_service                bool\n",
       "streaming_tv_yes                                bool\n",
       "streaming_movies_no_internet_service            bool\n",
       "streaming_movies_yes                            bool\n",
       "paperless_billing_yes                           bool\n",
       "dtype: object"
      ]
     },
     "execution_count": 349,
     "metadata": {},
     "output_type": "execute_result"
    }
   ],
   "source": [
    "telco_df.dtypes"
   ]
  },
  {
   "cell_type": "code",
   "execution_count": 350,
   "metadata": {},
   "outputs": [
    {
     "data": {
      "text/plain": [
       "internet_service_type                        0\n",
       "payment_type                                 0\n",
       "contract_type                                0\n",
       "customer_id                                  0\n",
       "gender                                       0\n",
       "senior_citizen                               0\n",
       "partner                                      0\n",
       "dependents                                   0\n",
       "tenure                                       0\n",
       "phone_service                                0\n",
       "multiple_lines                               0\n",
       "online_security                              0\n",
       "online_backup                                0\n",
       "device_protection                            0\n",
       "tech_support                                 0\n",
       "streaming_tv                                 0\n",
       "streaming_movies                             0\n",
       "paperless_billing                            0\n",
       "monthly_charges                              0\n",
       "total_charges                                0\n",
       "churn                                        0\n",
       "internet_service_type_fiber_optic            0\n",
       "internet_service_type_no_internet_service    0\n",
       "payment_type_credit_card_automatic           0\n",
       "payment_type_e_check                         0\n",
       "payment_type_mailed_check                    0\n",
       "contract_type_one_year                       0\n",
       "contract_type_two_year                       0\n",
       "gender_male                                  0\n",
       "partner_yes                                  0\n",
       "dependents_yes                               0\n",
       "phone_service_yes                            0\n",
       "multiple_lines_no_phone_service              0\n",
       "multiple_lines_yes                           0\n",
       "online_security_no_internet_service          0\n",
       "online_security_yes                          0\n",
       "online_backup_no_internet_service            0\n",
       "online_backup_yes                            0\n",
       "device_protection_no_internet_service        0\n",
       "device_protection_yes                        0\n",
       "tech_support_no_internet_service             0\n",
       "tech_support_yes                             0\n",
       "streaming_tv_no_internet_service             0\n",
       "streaming_tv_yes                             0\n",
       "streaming_movies_no_internet_service         0\n",
       "streaming_movies_yes                         0\n",
       "paperless_billing_yes                        0\n",
       "dtype: int64"
      ]
     },
     "execution_count": 350,
     "metadata": {},
     "output_type": "execute_result"
    }
   ],
   "source": [
    "telco_df.isnull().sum()"
   ]
  },
  {
   "cell_type": "code",
   "execution_count": 351,
   "metadata": {},
   "outputs": [
    {
     "data": {
      "text/plain": [
       "Index(['tenure', 'monthly_charges', 'total_charges'], dtype='object')"
      ]
     },
     "execution_count": 351,
     "metadata": {},
     "output_type": "execute_result"
    }
   ],
   "source": [
    "# 3 total numerical columns \n",
    "\n",
    "telco_df.select_dtypes(include = \"number\").columns"
   ]
  },
  {
   "cell_type": "code",
   "execution_count": 352,
   "metadata": {},
   "outputs": [
    {
     "data": {
      "image/png": "[encoded data removed]",
      "text/plain": [
       "<Figure size 864x432 with 1 Axes>"
      ]
     },
     "metadata": {},
     "output_type": "display_data"
    },
    {
     "data": {
      "image/png": "[encoded data removed]",
      "text/plain": [
       "<Figure size 864x432 with 1 Axes>"
      ]
     },
     "metadata": {},
     "output_type": "display_data"
    },
    {
     "data": {
      "image/png": "[encoded data removed]",
      "text/plain": [
       "<Figure size 864x432 with 1 Axes>"
      ]
     },
     "metadata": {},
     "output_type": "display_data"
    }
   ],
   "source": [
    "for column in telco_df.columns:\n",
    "    if telco_df[column].dtype == \"int\" or telco_df[column].dtype == \"float\":\n",
    "        plt.figure(figsize=(12, 6))\n",
    "        ax = sns.histplot(x = column, \n",
    "                        data = telco_df,\n",
    "                        kde = True,\n",
    "                        alpha = 0.6)\n",
    "        ax.set(xlabel = None)\n",
    "        ax.bar_label(ax.containers[0])\n",
    "        plt.title(column)\n",
    "        plt.show()"
   ]
  },
  {
   "cell_type": "markdown",
   "metadata": {},
   "source": [
    "-----\n",
    "#### Splitting the Telco Dataset in Train, Validate, and Test"
   ]
  },
  {
   "cell_type": "code",
   "execution_count": 353,
   "metadata": {},
   "outputs": [],
   "source": [
    "\n",
    "from acquire import train_validate_test_split # defined acquire.py file function to help with cleaning the Telco Dataset"
   ]
  },
  {
   "cell_type": "code",
   "execution_count": 354,
   "metadata": {},
   "outputs": [],
   "source": [
    "train, validate, test = train_validate_test_split(telco_df)"
   ]
  },
  {
   "cell_type": "code",
   "execution_count": 355,
   "metadata": {},
   "outputs": [
    {
     "name": "stdout",
     "output_type": "stream",
     "text": [
      "Train dataset shape: (3943, 47)\n",
      "Validate dataset shape: (1691, 47)\n",
      "Test dataset shape: (1409, 47)\n"
     ]
    }
   ],
   "source": [
    "print(f\"Train dataset shape: {train.shape}\")\n",
    "print(f\"Validate dataset shape: {validate.shape}\")\n",
    "print(f\"Test dataset shape: {test.shape}\")"
   ]
  },
  {
   "cell_type": "markdown",
   "metadata": {},
   "source": [
    "----\n",
    "## Exploration Phase"
   ]
  },
  {
   "cell_type": "markdown",
   "metadata": {},
   "source": [
    "**<u>Key Questions:</u>**\n",
    "\n",
    "y = decision to churn\n",
    "\n",
    "X = independent variable\n",
    "\n",
    "1. Do the current “Internet Options” have an effect on customers’ decision to churn?\n",
    "    - Comparing Categorical to Categorical (Chi Squared Test) \n",
    "<br><br>\n",
    "2. Did a customer’s “Tech Support” experience have an impact on their decision to churn?\n",
    "    \n",
    "    - Comparing Categorical to Categorical (Chi Squared Test)\n",
    "<br><br>\n",
    "3. Did a customer’s “Payment Type” have an effect on customers’ decision to churn?\n",
    "    \n",
    "    - Comparing Categorical to Categorical (Chi Squared Test)\n",
    "<br><br>\n",
    "4. Does a customer’s ability to “Stream Movies” impact their decision to churn?\n",
    "    \n",
    "    - Comparing Categorical to Categorical (Chi Squared Test)\n",
    "<br><br>\n",
    "\n",
    "**(Bonus)**\n",
    "\n",
    "5. Does a customer’s ability to “Stream TV” impact their decision to churn?\n",
    "    \n",
    "    - Comparing Categorical to Categorical (Chi Squared Test)\n",
    "<br><br>\n",
    "6. Does a customer’s “Total Charges” impact their decision to churn?\n",
    "    \n",
    "    - Comparing Continuous Value to Categorical (T-test)"
   ]
  },
  {
   "cell_type": "code",
   "execution_count": 356,
   "metadata": {},
   "outputs": [],
   "source": [
    "# importing necessary modules:\n",
    "\n",
    "import scipy.stats as stats"
   ]
  },
  {
   "cell_type": "markdown",
   "metadata": {},
   "source": [
    "**<u>Notes on ChiSquared Testing</u>**\n",
    "\n",
    "**Assumptions**\n",
    "* When testing the data, the cells should be frequencies or counts of cases and not percentages. It is okay to convert to percentages after testing the data\n",
    "* The levels (categories) of the variables being tested are mutually exclusive\n",
    "* Each participant contributes to only one cell within the Chi-square table\n",
    "* The groups being tested must be independent\n",
    "* The value of expected cells should be greater than 5\n",
    "\n",
    "----"
   ]
  },
  {
   "cell_type": "markdown",
   "metadata": {},
   "source": [
    "## Question #1: Do the current internet options have an effect on customers' decision to churn?\n",
    "\n",
    "<u>**Hypothesis Formulation:**</u>\n",
    "\n",
    "$H_0$: \"There is NO association/relationship between a customer's use of current internet options and their decision to churn.\"\n",
    "\n",
    "$H_a$: \"There IS an association/relationship between a customer's use of current internet options and their decision to churn.\"\n",
    "\n",
    "$\\alpha$: 0.05\n",
    "\n",
    "----"
   ]
  },
  {
   "cell_type": "code",
   "execution_count": 357,
   "metadata": {},
   "outputs": [],
   "source": [
    "alpha = 0.05"
   ]
  },
  {
   "cell_type": "code",
   "execution_count": 358,
   "metadata": {},
   "outputs": [],
   "source": [
    "# cleaning the data -- setting up my variables:"
   ]
  },
  {
   "cell_type": "code",
   "execution_count": 359,
   "metadata": {},
   "outputs": [
    {
     "data": {
      "text/plain": [
       "array(['No internet service', 'Fiber Optic', 'DSL'], dtype=object)"
      ]
     },
     "execution_count": 359,
     "metadata": {},
     "output_type": "execute_result"
    }
   ],
   "source": [
    "train[\"internet_service_type\"].unique()"
   ]
  },
  {
   "cell_type": "code",
   "execution_count": 360,
   "metadata": {},
   "outputs": [
    {
     "data": {
      "text/plain": [
       "Fiber Optic            1740\n",
       "DSL                    1365\n",
       "No internet service     838\n",
       "Name: internet_service_type, dtype: int64"
      ]
     },
     "execution_count": 360,
     "metadata": {},
     "output_type": "execute_result"
    }
   ],
   "source": [
    "# Fiber Optic            1740\n",
    "# DSL                    1365\n",
    "# No internet service     838\n",
    "\n",
    "train[\"internet_service_type\"].value_counts()"
   ]
  },
  {
   "cell_type": "code",
   "execution_count": 361,
   "metadata": {},
   "outputs": [],
   "source": [
    "# as a first pass: i will combine DSL and Fiber Optic as my \"internet sample\"\n",
    "# future exploration: \"determine\" if there is any statistical difference/inference between \"DSL\" and \"Fiber Optic\" options\n",
    "\n",
    "internet_df = train[(train[\"internet_service_type\"] == \"DSL\")| (train[\"internet_service_type\"] == \"Fiber Optic\")]"
   ]
  },
  {
   "cell_type": "code",
   "execution_count": 362,
   "metadata": {},
   "outputs": [
    {
     "data": {
      "text/html": [
       "<div>\n",
       "<style scoped>\n",
       "    .dataframe tbody tr th:only-of-type {\n",
       "        vertical-align: middle;\n",
       "    }\n",
       "\n",
       "    .dataframe tbody tr th {\n",
       "        vertical-align: top;\n",
       "    }\n",
       "\n",
       "    .dataframe thead th {\n",
       "        text-align: right;\n",
       "    }\n",
       "</style>\n",
       "<table border=\"1\" class=\"dataframe\">\n",
       "  <thead>\n",
       "    <tr style=\"text-align: right;\">\n",
       "      <th></th>\n",
       "      <th>internet_service_type</th>\n",
       "      <th>payment_type</th>\n",
       "      <th>contract_type</th>\n",
       "      <th>customer_id</th>\n",
       "      <th>gender</th>\n",
       "      <th>senior_citizen</th>\n",
       "      <th>partner</th>\n",
       "      <th>dependents</th>\n",
       "      <th>tenure</th>\n",
       "      <th>phone_service</th>\n",
       "      <th>...</th>\n",
       "      <th>online_backup_yes</th>\n",
       "      <th>device_protection_no_internet_service</th>\n",
       "      <th>device_protection_yes</th>\n",
       "      <th>tech_support_no_internet_service</th>\n",
       "      <th>tech_support_yes</th>\n",
       "      <th>streaming_tv_no_internet_service</th>\n",
       "      <th>streaming_tv_yes</th>\n",
       "      <th>streaming_movies_no_internet_service</th>\n",
       "      <th>streaming_movies_yes</th>\n",
       "      <th>paperless_billing_yes</th>\n",
       "    </tr>\n",
       "  </thead>\n",
       "  <tbody>\n",
       "    <tr>\n",
       "      <th>3796</th>\n",
       "      <td>Fiber Optic</td>\n",
       "      <td>Credit Card (automatic)</td>\n",
       "      <td>Month-to-Month</td>\n",
       "      <td>4450-DLLMH</td>\n",
       "      <td>Male</td>\n",
       "      <td>False</td>\n",
       "      <td>No</td>\n",
       "      <td>No</td>\n",
       "      <td>2</td>\n",
       "      <td>Yes</td>\n",
       "      <td>...</td>\n",
       "      <td>False</td>\n",
       "      <td>False</td>\n",
       "      <td>False</td>\n",
       "      <td>False</td>\n",
       "      <td>False</td>\n",
       "      <td>False</td>\n",
       "      <td>False</td>\n",
       "      <td>False</td>\n",
       "      <td>False</td>\n",
       "      <td>True</td>\n",
       "    </tr>\n",
       "    <tr>\n",
       "      <th>4566</th>\n",
       "      <td>Fiber Optic</td>\n",
       "      <td>Credit Card (automatic)</td>\n",
       "      <td>Month-to-Month</td>\n",
       "      <td>6833-JMZYP</td>\n",
       "      <td>Female</td>\n",
       "      <td>False</td>\n",
       "      <td>No</td>\n",
       "      <td>No</td>\n",
       "      <td>15</td>\n",
       "      <td>Yes</td>\n",
       "      <td>...</td>\n",
       "      <td>False</td>\n",
       "      <td>False</td>\n",
       "      <td>True</td>\n",
       "      <td>False</td>\n",
       "      <td>False</td>\n",
       "      <td>False</td>\n",
       "      <td>True</td>\n",
       "      <td>False</td>\n",
       "      <td>True</td>\n",
       "      <td>True</td>\n",
       "    </tr>\n",
       "    <tr>\n",
       "      <th>2389</th>\n",
       "      <td>DSL</td>\n",
       "      <td>Mailed Check</td>\n",
       "      <td>One Year</td>\n",
       "      <td>9830-ECLEN</td>\n",
       "      <td>Male</td>\n",
       "      <td>False</td>\n",
       "      <td>Yes</td>\n",
       "      <td>Yes</td>\n",
       "      <td>58</td>\n",
       "      <td>No</td>\n",
       "      <td>...</td>\n",
       "      <td>True</td>\n",
       "      <td>False</td>\n",
       "      <td>True</td>\n",
       "      <td>False</td>\n",
       "      <td>False</td>\n",
       "      <td>False</td>\n",
       "      <td>True</td>\n",
       "      <td>False</td>\n",
       "      <td>False</td>\n",
       "      <td>False</td>\n",
       "    </tr>\n",
       "    <tr>\n",
       "      <th>2793</th>\n",
       "      <td>Fiber Optic</td>\n",
       "      <td>E-Check</td>\n",
       "      <td>Month-to-Month</td>\n",
       "      <td>1200-TUZHR</td>\n",
       "      <td>Female</td>\n",
       "      <td>True</td>\n",
       "      <td>No</td>\n",
       "      <td>No</td>\n",
       "      <td>8</td>\n",
       "      <td>Yes</td>\n",
       "      <td>...</td>\n",
       "      <td>False</td>\n",
       "      <td>False</td>\n",
       "      <td>False</td>\n",
       "      <td>False</td>\n",
       "      <td>False</td>\n",
       "      <td>False</td>\n",
       "      <td>False</td>\n",
       "      <td>False</td>\n",
       "      <td>True</td>\n",
       "      <td>False</td>\n",
       "    </tr>\n",
       "    <tr>\n",
       "      <th>3317</th>\n",
       "      <td>Fiber Optic</td>\n",
       "      <td>Bank Transfer (automatic</td>\n",
       "      <td>Two Year</td>\n",
       "      <td>2904-GGUAZ</td>\n",
       "      <td>Female</td>\n",
       "      <td>False</td>\n",
       "      <td>Yes</td>\n",
       "      <td>No</td>\n",
       "      <td>72</td>\n",
       "      <td>Yes</td>\n",
       "      <td>...</td>\n",
       "      <td>True</td>\n",
       "      <td>False</td>\n",
       "      <td>False</td>\n",
       "      <td>False</td>\n",
       "      <td>False</td>\n",
       "      <td>False</td>\n",
       "      <td>False</td>\n",
       "      <td>False</td>\n",
       "      <td>False</td>\n",
       "      <td>True</td>\n",
       "    </tr>\n",
       "  </tbody>\n",
       "</table>\n",
       "<p>5 rows × 47 columns</p>\n",
       "</div>"
      ],
      "text/plain": [
       "     internet_service_type              payment_type   contract_type  \\\n",
       "3796           Fiber Optic   Credit Card (automatic)  Month-to-Month   \n",
       "4566           Fiber Optic   Credit Card (automatic)  Month-to-Month   \n",
       "2389                   DSL              Mailed Check        One Year   \n",
       "2793           Fiber Optic                   E-Check  Month-to-Month   \n",
       "3317           Fiber Optic  Bank Transfer (automatic        Two Year   \n",
       "\n",
       "     customer_id  gender  senior_citizen partner dependents  tenure  \\\n",
       "3796  4450-DLLMH    Male           False      No         No       2   \n",
       "4566  6833-JMZYP  Female           False      No         No      15   \n",
       "2389  9830-ECLEN    Male           False     Yes        Yes      58   \n",
       "2793  1200-TUZHR  Female            True      No         No       8   \n",
       "3317  2904-GGUAZ  Female           False     Yes         No      72   \n",
       "\n",
       "     phone_service  ... online_backup_yes  \\\n",
       "3796           Yes  ...             False   \n",
       "4566           Yes  ...             False   \n",
       "2389            No  ...              True   \n",
       "2793           Yes  ...             False   \n",
       "3317           Yes  ...              True   \n",
       "\n",
       "     device_protection_no_internet_service device_protection_yes  \\\n",
       "3796                                 False                 False   \n",
       "4566                                 False                  True   \n",
       "2389                                 False                  True   \n",
       "2793                                 False                 False   \n",
       "3317                                 False                 False   \n",
       "\n",
       "     tech_support_no_internet_service tech_support_yes  \\\n",
       "3796                            False            False   \n",
       "4566                            False            False   \n",
       "2389                            False            False   \n",
       "2793                            False            False   \n",
       "3317                            False            False   \n",
       "\n",
       "     streaming_tv_no_internet_service streaming_tv_yes  \\\n",
       "3796                            False            False   \n",
       "4566                            False             True   \n",
       "2389                            False             True   \n",
       "2793                            False            False   \n",
       "3317                            False            False   \n",
       "\n",
       "     streaming_movies_no_internet_service  streaming_movies_yes  \\\n",
       "3796                                False                 False   \n",
       "4566                                False                  True   \n",
       "2389                                False                 False   \n",
       "2793                                False                  True   \n",
       "3317                                False                 False   \n",
       "\n",
       "      paperless_billing_yes  \n",
       "3796                   True  \n",
       "4566                   True  \n",
       "2389                  False  \n",
       "2793                  False  \n",
       "3317                   True  \n",
       "\n",
       "[5 rows x 47 columns]"
      ]
     },
     "execution_count": 362,
     "metadata": {},
     "output_type": "execute_result"
    }
   ],
   "source": [
    "internet_df.head()"
   ]
  },
  {
   "cell_type": "code",
   "execution_count": 363,
   "metadata": {},
   "outputs": [
    {
     "data": {
      "text/plain": [
       "(3105, 47)"
      ]
     },
     "execution_count": 363,
     "metadata": {},
     "output_type": "execute_result"
    }
   ],
   "source": [
    "internet_df.shape # checking the returned number of values/observations "
   ]
  },
  {
   "cell_type": "code",
   "execution_count": 364,
   "metadata": {},
   "outputs": [
    {
     "data": {
      "text/html": [
       "<div>\n",
       "<style scoped>\n",
       "    .dataframe tbody tr th:only-of-type {\n",
       "        vertical-align: middle;\n",
       "    }\n",
       "\n",
       "    .dataframe tbody tr th {\n",
       "        vertical-align: top;\n",
       "    }\n",
       "\n",
       "    .dataframe thead th {\n",
       "        text-align: right;\n",
       "    }\n",
       "</style>\n",
       "<table border=\"1\" class=\"dataframe\">\n",
       "  <thead>\n",
       "    <tr style=\"text-align: right;\">\n",
       "      <th>churn</th>\n",
       "      <th>False</th>\n",
       "      <th>True</th>\n",
       "      <th>All</th>\n",
       "    </tr>\n",
       "    <tr>\n",
       "      <th>internet_service_type</th>\n",
       "      <th></th>\n",
       "      <th></th>\n",
       "      <th></th>\n",
       "    </tr>\n",
       "  </thead>\n",
       "  <tbody>\n",
       "    <tr>\n",
       "      <th>DSL</th>\n",
       "      <td>1106</td>\n",
       "      <td>259</td>\n",
       "      <td>1365</td>\n",
       "    </tr>\n",
       "    <tr>\n",
       "      <th>Fiber Optic</th>\n",
       "      <td>1016</td>\n",
       "      <td>724</td>\n",
       "      <td>1740</td>\n",
       "    </tr>\n",
       "    <tr>\n",
       "      <th>All</th>\n",
       "      <td>2122</td>\n",
       "      <td>983</td>\n",
       "      <td>3105</td>\n",
       "    </tr>\n",
       "  </tbody>\n",
       "</table>\n",
       "</div>"
      ],
      "text/plain": [
       "churn                  False  True   All\n",
       "internet_service_type                   \n",
       "DSL                     1106   259  1365\n",
       "Fiber Optic             1016   724  1740\n",
       "All                     2122   983  3105"
      ]
     },
     "execution_count": 364,
     "metadata": {},
     "output_type": "execute_result"
    }
   ],
   "source": [
    "# creating my \"observed\" values\n",
    "\n",
    "observed = pd.crosstab(index = internet_df[\"internet_service_type\"], columns = internet_df[\"churn\"], margins = True)\n",
    "observed"
   ]
  },
  {
   "cell_type": "code",
   "execution_count": 365,
   "metadata": {},
   "outputs": [],
   "source": [
    "# running the ChiSquared Test\n",
    "\n",
    "chi, p_value, degf, exp_values = stats.chi2_contingency(observed)"
   ]
  },
  {
   "cell_type": "code",
   "execution_count": 366,
   "metadata": {},
   "outputs": [
    {
     "name": "stdout",
     "output_type": "stream",
     "text": [
      "chi = 181.1337287979812\n",
      "p_value = 4.2564632763856625e-38\n",
      "degrees of freedom = 4 \n",
      "\n",
      "----- \n",
      " expected values: \n",
      " [[ 932.85990338  432.14009662 1365.        ]\n",
      " [1189.14009662  550.85990338 1740.        ]\n",
      " [2122.          983.         3105.        ]]\n"
     ]
    }
   ],
   "source": [
    "print(\"chi =\", chi)\n",
    "print(\"p_value =\", p_value)\n",
    "print(\"degrees of freedom =\", degf, \"\\n\")\n",
    "\n",
    "print(\"-----\",\"\\n\",\"expected values:\", \"\\n\", exp_values)"
   ]
  },
  {
   "cell_type": "code",
   "execution_count": 367,
   "metadata": {},
   "outputs": [
    {
     "name": "stdout",
     "output_type": "stream",
     "text": [
      "REJECT Null Hypothesis.\n"
     ]
    }
   ],
   "source": [
    "if p_value < alpha:\n",
    "    print(\"REJECT Null Hypothesis.\")\n",
    "else:\n",
    "    print(\"Fail to reject Null Hypothesis.\")"
   ]
  },
  {
   "cell_type": "markdown",
   "metadata": {},
   "source": [
    "**Conclusion:**\n",
    "\n",
    "1. Given the relatively low p-value in our ChiSquared Test - we can conclude with a 95% confidence interval in this dataset that there is an association/relationship between a customer's use of current internet options (DSL or Fiber Optic) and their decision to churn.\n",
    "   \n",
    "   *Internet Options:*\n",
    "\n",
    "       - DSL\n",
    "       - Fiber Optic\n",
    "<br><br>\n",
    "2. We will therefore carry these features forward into future predictive modeling.\n",
    "\n",
    "----"
   ]
  },
  {
   "cell_type": "markdown",
   "metadata": {},
   "source": [
    "## Question #2: Does a customer’s “Tech Support” service option have an impact on their decision to churn?\n",
    "\n",
    "\n",
    "<u>**Hypothesis Formulation (tech support option):**</u>\n",
    "\n",
    "$H_0$: \"There is NO association/relationship between the tech support option and a customer's decision to churn.\"\n",
    "\n",
    "$H_a$: \"There IS an association/relationship between the tech support option and a customer's decision to churn.\"\n",
    "\n",
    "\n",
    "$\\alpha$: 0.05\n",
    "\n",
    "----"
   ]
  },
  {
   "cell_type": "code",
   "execution_count": 413,
   "metadata": {},
   "outputs": [
    {
     "data": {
      "image/png": "[encoded data removed]",
      "text/plain": [
       "<Figure size 720x720 with 1 Axes>"
      ]
     },
     "metadata": {},
     "output_type": "display_data"
    }
   ],
   "source": [
    "plt.figure(figsize=(10, 10))\n",
    "ax = sns.countplot(x = \"tech_support\", \n",
    "    data = train,\n",
    "    order = train[\"tech_support\"].value_counts().index,\n",
    "    palette = \"crest\")\n",
    "\n",
    "ax.bar_label(ax.containers[0])\n",
    "plt.show()"
   ]
  },
  {
   "cell_type": "code",
   "execution_count": 386,
   "metadata": {},
   "outputs": [],
   "source": [
    "alpha = 0.05"
   ]
  },
  {
   "cell_type": "code",
   "execution_count": 387,
   "metadata": {},
   "outputs": [
    {
     "data": {
      "text/plain": [
       "array(['No internet service', 'No', 'Yes'], dtype=object)"
      ]
     },
     "execution_count": 387,
     "metadata": {},
     "output_type": "execute_result"
    }
   ],
   "source": [
    "train[\"tech_support\"].unique()"
   ]
  },
  {
   "cell_type": "code",
   "execution_count": 389,
   "metadata": {},
   "outputs": [
    {
     "data": {
      "text/html": [
       "<div>\n",
       "<style scoped>\n",
       "    .dataframe tbody tr th:only-of-type {\n",
       "        vertical-align: middle;\n",
       "    }\n",
       "\n",
       "    .dataframe tbody tr th {\n",
       "        vertical-align: top;\n",
       "    }\n",
       "\n",
       "    .dataframe thead th {\n",
       "        text-align: right;\n",
       "    }\n",
       "</style>\n",
       "<table border=\"1\" class=\"dataframe\">\n",
       "  <thead>\n",
       "    <tr style=\"text-align: right;\">\n",
       "      <th></th>\n",
       "      <th>internet_service_type</th>\n",
       "      <th>payment_type</th>\n",
       "      <th>contract_type</th>\n",
       "      <th>customer_id</th>\n",
       "      <th>gender</th>\n",
       "      <th>senior_citizen</th>\n",
       "      <th>partner</th>\n",
       "      <th>dependents</th>\n",
       "      <th>tenure</th>\n",
       "      <th>phone_service</th>\n",
       "      <th>...</th>\n",
       "      <th>online_backup_yes</th>\n",
       "      <th>device_protection_no_internet_service</th>\n",
       "      <th>device_protection_yes</th>\n",
       "      <th>tech_support_no_internet_service</th>\n",
       "      <th>tech_support_yes</th>\n",
       "      <th>streaming_tv_no_internet_service</th>\n",
       "      <th>streaming_tv_yes</th>\n",
       "      <th>streaming_movies_no_internet_service</th>\n",
       "      <th>streaming_movies_yes</th>\n",
       "      <th>paperless_billing_yes</th>\n",
       "    </tr>\n",
       "  </thead>\n",
       "  <tbody>\n",
       "    <tr>\n",
       "      <th>3796</th>\n",
       "      <td>Fiber Optic</td>\n",
       "      <td>Credit Card (automatic)</td>\n",
       "      <td>Month-to-Month</td>\n",
       "      <td>4450-DLLMH</td>\n",
       "      <td>Male</td>\n",
       "      <td>False</td>\n",
       "      <td>No</td>\n",
       "      <td>No</td>\n",
       "      <td>2</td>\n",
       "      <td>Yes</td>\n",
       "      <td>...</td>\n",
       "      <td>False</td>\n",
       "      <td>False</td>\n",
       "      <td>False</td>\n",
       "      <td>False</td>\n",
       "      <td>False</td>\n",
       "      <td>False</td>\n",
       "      <td>False</td>\n",
       "      <td>False</td>\n",
       "      <td>False</td>\n",
       "      <td>True</td>\n",
       "    </tr>\n",
       "    <tr>\n",
       "      <th>4566</th>\n",
       "      <td>Fiber Optic</td>\n",
       "      <td>Credit Card (automatic)</td>\n",
       "      <td>Month-to-Month</td>\n",
       "      <td>6833-JMZYP</td>\n",
       "      <td>Female</td>\n",
       "      <td>False</td>\n",
       "      <td>No</td>\n",
       "      <td>No</td>\n",
       "      <td>15</td>\n",
       "      <td>Yes</td>\n",
       "      <td>...</td>\n",
       "      <td>False</td>\n",
       "      <td>False</td>\n",
       "      <td>True</td>\n",
       "      <td>False</td>\n",
       "      <td>False</td>\n",
       "      <td>False</td>\n",
       "      <td>True</td>\n",
       "      <td>False</td>\n",
       "      <td>True</td>\n",
       "      <td>True</td>\n",
       "    </tr>\n",
       "    <tr>\n",
       "      <th>2389</th>\n",
       "      <td>DSL</td>\n",
       "      <td>Mailed Check</td>\n",
       "      <td>One Year</td>\n",
       "      <td>9830-ECLEN</td>\n",
       "      <td>Male</td>\n",
       "      <td>False</td>\n",
       "      <td>Yes</td>\n",
       "      <td>Yes</td>\n",
       "      <td>58</td>\n",
       "      <td>No</td>\n",
       "      <td>...</td>\n",
       "      <td>True</td>\n",
       "      <td>False</td>\n",
       "      <td>True</td>\n",
       "      <td>False</td>\n",
       "      <td>False</td>\n",
       "      <td>False</td>\n",
       "      <td>True</td>\n",
       "      <td>False</td>\n",
       "      <td>False</td>\n",
       "      <td>False</td>\n",
       "    </tr>\n",
       "    <tr>\n",
       "      <th>2793</th>\n",
       "      <td>Fiber Optic</td>\n",
       "      <td>E-Check</td>\n",
       "      <td>Month-to-Month</td>\n",
       "      <td>1200-TUZHR</td>\n",
       "      <td>Female</td>\n",
       "      <td>True</td>\n",
       "      <td>No</td>\n",
       "      <td>No</td>\n",
       "      <td>8</td>\n",
       "      <td>Yes</td>\n",
       "      <td>...</td>\n",
       "      <td>False</td>\n",
       "      <td>False</td>\n",
       "      <td>False</td>\n",
       "      <td>False</td>\n",
       "      <td>False</td>\n",
       "      <td>False</td>\n",
       "      <td>False</td>\n",
       "      <td>False</td>\n",
       "      <td>True</td>\n",
       "      <td>False</td>\n",
       "    </tr>\n",
       "    <tr>\n",
       "      <th>3317</th>\n",
       "      <td>Fiber Optic</td>\n",
       "      <td>Bank Transfer (automatic</td>\n",
       "      <td>Two Year</td>\n",
       "      <td>2904-GGUAZ</td>\n",
       "      <td>Female</td>\n",
       "      <td>False</td>\n",
       "      <td>Yes</td>\n",
       "      <td>No</td>\n",
       "      <td>72</td>\n",
       "      <td>Yes</td>\n",
       "      <td>...</td>\n",
       "      <td>True</td>\n",
       "      <td>False</td>\n",
       "      <td>False</td>\n",
       "      <td>False</td>\n",
       "      <td>False</td>\n",
       "      <td>False</td>\n",
       "      <td>False</td>\n",
       "      <td>False</td>\n",
       "      <td>False</td>\n",
       "      <td>True</td>\n",
       "    </tr>\n",
       "  </tbody>\n",
       "</table>\n",
       "<p>5 rows × 47 columns</p>\n",
       "</div>"
      ],
      "text/plain": [
       "     internet_service_type              payment_type   contract_type  \\\n",
       "3796           Fiber Optic   Credit Card (automatic)  Month-to-Month   \n",
       "4566           Fiber Optic   Credit Card (automatic)  Month-to-Month   \n",
       "2389                   DSL              Mailed Check        One Year   \n",
       "2793           Fiber Optic                   E-Check  Month-to-Month   \n",
       "3317           Fiber Optic  Bank Transfer (automatic        Two Year   \n",
       "\n",
       "     customer_id  gender  senior_citizen partner dependents  tenure  \\\n",
       "3796  4450-DLLMH    Male           False      No         No       2   \n",
       "4566  6833-JMZYP  Female           False      No         No      15   \n",
       "2389  9830-ECLEN    Male           False     Yes        Yes      58   \n",
       "2793  1200-TUZHR  Female            True      No         No       8   \n",
       "3317  2904-GGUAZ  Female           False     Yes         No      72   \n",
       "\n",
       "     phone_service  ... online_backup_yes  \\\n",
       "3796           Yes  ...             False   \n",
       "4566           Yes  ...             False   \n",
       "2389            No  ...              True   \n",
       "2793           Yes  ...             False   \n",
       "3317           Yes  ...              True   \n",
       "\n",
       "     device_protection_no_internet_service device_protection_yes  \\\n",
       "3796                                 False                 False   \n",
       "4566                                 False                  True   \n",
       "2389                                 False                  True   \n",
       "2793                                 False                 False   \n",
       "3317                                 False                 False   \n",
       "\n",
       "     tech_support_no_internet_service tech_support_yes  \\\n",
       "3796                            False            False   \n",
       "4566                            False            False   \n",
       "2389                            False            False   \n",
       "2793                            False            False   \n",
       "3317                            False            False   \n",
       "\n",
       "     streaming_tv_no_internet_service streaming_tv_yes  \\\n",
       "3796                            False            False   \n",
       "4566                            False             True   \n",
       "2389                            False             True   \n",
       "2793                            False            False   \n",
       "3317                            False            False   \n",
       "\n",
       "     streaming_movies_no_internet_service  streaming_movies_yes  \\\n",
       "3796                                False                 False   \n",
       "4566                                False                  True   \n",
       "2389                                False                 False   \n",
       "2793                                False                  True   \n",
       "3317                                False                 False   \n",
       "\n",
       "      paperless_billing_yes  \n",
       "3796                   True  \n",
       "4566                   True  \n",
       "2389                  False  \n",
       "2793                  False  \n",
       "3317                   True  \n",
       "\n",
       "[5 rows x 47 columns]"
      ]
     },
     "execution_count": 389,
     "metadata": {},
     "output_type": "execute_result"
    }
   ],
   "source": [
    "tech_support = train[(train[\"tech_support\"] == \"Yes\") | (train[\"tech_support\"] == \"No\")]\n",
    "tech_support.head()"
   ]
  },
  {
   "cell_type": "code",
   "execution_count": 390,
   "metadata": {},
   "outputs": [
    {
     "data": {
      "text/plain": [
       "(3105, 47)"
      ]
     },
     "execution_count": 390,
     "metadata": {},
     "output_type": "execute_result"
    }
   ],
   "source": [
    "tech_support.shape"
   ]
  },
  {
   "cell_type": "code",
   "execution_count": 391,
   "metadata": {},
   "outputs": [
    {
     "data": {
      "text/html": [
       "<div>\n",
       "<style scoped>\n",
       "    .dataframe tbody tr th:only-of-type {\n",
       "        vertical-align: middle;\n",
       "    }\n",
       "\n",
       "    .dataframe tbody tr th {\n",
       "        vertical-align: top;\n",
       "    }\n",
       "\n",
       "    .dataframe thead th {\n",
       "        text-align: right;\n",
       "    }\n",
       "</style>\n",
       "<table border=\"1\" class=\"dataframe\">\n",
       "  <thead>\n",
       "    <tr style=\"text-align: right;\">\n",
       "      <th></th>\n",
       "      <th>count</th>\n",
       "      <th>mean</th>\n",
       "      <th>std</th>\n",
       "      <th>min</th>\n",
       "      <th>25%</th>\n",
       "      <th>50%</th>\n",
       "      <th>75%</th>\n",
       "      <th>max</th>\n",
       "    </tr>\n",
       "  </thead>\n",
       "  <tbody>\n",
       "    <tr>\n",
       "      <th>tenure</th>\n",
       "      <td>3105.0</td>\n",
       "      <td>33.323349</td>\n",
       "      <td>24.589355</td>\n",
       "      <td>0.0</td>\n",
       "      <td>9.00</td>\n",
       "      <td>30.00</td>\n",
       "      <td>56.00</td>\n",
       "      <td>72.0</td>\n",
       "    </tr>\n",
       "    <tr>\n",
       "      <th>monthly_charges</th>\n",
       "      <td>3105.0</td>\n",
       "      <td>77.014702</td>\n",
       "      <td>21.853526</td>\n",
       "      <td>23.9</td>\n",
       "      <td>60.05</td>\n",
       "      <td>79.50</td>\n",
       "      <td>94.40</td>\n",
       "      <td>118.6</td>\n",
       "    </tr>\n",
       "    <tr>\n",
       "      <th>total_charges</th>\n",
       "      <td>3105.0</td>\n",
       "      <td>2765.348148</td>\n",
       "      <td>2363.798364</td>\n",
       "      <td>24.4</td>\n",
       "      <td>611.65</td>\n",
       "      <td>2201.75</td>\n",
       "      <td>4599.15</td>\n",
       "      <td>8684.8</td>\n",
       "    </tr>\n",
       "  </tbody>\n",
       "</table>\n",
       "</div>"
      ],
      "text/plain": [
       "                  count         mean          std   min     25%      50%  \\\n",
       "tenure           3105.0    33.323349    24.589355   0.0    9.00    30.00   \n",
       "monthly_charges  3105.0    77.014702    21.853526  23.9   60.05    79.50   \n",
       "total_charges    3105.0  2765.348148  2363.798364  24.4  611.65  2201.75   \n",
       "\n",
       "                     75%     max  \n",
       "tenure             56.00    72.0  \n",
       "monthly_charges    94.40   118.6  \n",
       "total_charges    4599.15  8684.8  "
      ]
     },
     "execution_count": 391,
     "metadata": {},
     "output_type": "execute_result"
    }
   ],
   "source": [
    "# tech_support dataframe summary statistics\n",
    "\n",
    "summary_stats = tech_support.describe().T\n",
    "summary_stats"
   ]
  },
  {
   "cell_type": "code",
   "execution_count": 392,
   "metadata": {},
   "outputs": [
    {
     "data": {
      "text/html": [
       "<div>\n",
       "<style scoped>\n",
       "    .dataframe tbody tr th:only-of-type {\n",
       "        vertical-align: middle;\n",
       "    }\n",
       "\n",
       "    .dataframe tbody tr th {\n",
       "        vertical-align: top;\n",
       "    }\n",
       "\n",
       "    .dataframe thead th {\n",
       "        text-align: right;\n",
       "    }\n",
       "</style>\n",
       "<table border=\"1\" class=\"dataframe\">\n",
       "  <thead>\n",
       "    <tr style=\"text-align: right;\">\n",
       "      <th></th>\n",
       "      <th>count</th>\n",
       "      <th>mean</th>\n",
       "      <th>std</th>\n",
       "      <th>min</th>\n",
       "      <th>25%</th>\n",
       "      <th>50%</th>\n",
       "      <th>75%</th>\n",
       "      <th>max</th>\n",
       "      <th>range</th>\n",
       "    </tr>\n",
       "  </thead>\n",
       "  <tbody>\n",
       "    <tr>\n",
       "      <th>tenure</th>\n",
       "      <td>3105.0</td>\n",
       "      <td>33.323349</td>\n",
       "      <td>24.589355</td>\n",
       "      <td>0.0</td>\n",
       "      <td>9.00</td>\n",
       "      <td>30.00</td>\n",
       "      <td>56.00</td>\n",
       "      <td>72.0</td>\n",
       "      <td>72.0</td>\n",
       "    </tr>\n",
       "    <tr>\n",
       "      <th>monthly_charges</th>\n",
       "      <td>3105.0</td>\n",
       "      <td>77.014702</td>\n",
       "      <td>21.853526</td>\n",
       "      <td>23.9</td>\n",
       "      <td>60.05</td>\n",
       "      <td>79.50</td>\n",
       "      <td>94.40</td>\n",
       "      <td>118.6</td>\n",
       "      <td>94.7</td>\n",
       "    </tr>\n",
       "    <tr>\n",
       "      <th>total_charges</th>\n",
       "      <td>3105.0</td>\n",
       "      <td>2765.348148</td>\n",
       "      <td>2363.798364</td>\n",
       "      <td>24.4</td>\n",
       "      <td>611.65</td>\n",
       "      <td>2201.75</td>\n",
       "      <td>4599.15</td>\n",
       "      <td>8684.8</td>\n",
       "      <td>8660.4</td>\n",
       "    </tr>\n",
       "  </tbody>\n",
       "</table>\n",
       "</div>"
      ],
      "text/plain": [
       "                  count         mean          std   min     25%      50%  \\\n",
       "tenure           3105.0    33.323349    24.589355   0.0    9.00    30.00   \n",
       "monthly_charges  3105.0    77.014702    21.853526  23.9   60.05    79.50   \n",
       "total_charges    3105.0  2765.348148  2363.798364  24.4  611.65  2201.75   \n",
       "\n",
       "                     75%     max   range  \n",
       "tenure             56.00    72.0    72.0  \n",
       "monthly_charges    94.40   118.6    94.7  \n",
       "total_charges    4599.15  8684.8  8660.4  "
      ]
     },
     "execution_count": 392,
     "metadata": {},
     "output_type": "execute_result"
    }
   ],
   "source": [
    "# summary statistics with \"range\" column\n",
    "\n",
    "summary_stats[\"range\"] = summary_stats[\"max\"] - summary_stats[\"min\"]\n",
    "summary_stats"
   ]
  },
  {
   "cell_type": "code",
   "execution_count": 393,
   "metadata": {},
   "outputs": [
    {
     "data": {
      "text/html": [
       "<div>\n",
       "<style scoped>\n",
       "    .dataframe tbody tr th:only-of-type {\n",
       "        vertical-align: middle;\n",
       "    }\n",
       "\n",
       "    .dataframe tbody tr th {\n",
       "        vertical-align: top;\n",
       "    }\n",
       "\n",
       "    .dataframe thead th {\n",
       "        text-align: right;\n",
       "    }\n",
       "</style>\n",
       "<table border=\"1\" class=\"dataframe\">\n",
       "  <thead>\n",
       "    <tr style=\"text-align: right;\">\n",
       "      <th>churn</th>\n",
       "      <th>False</th>\n",
       "      <th>True</th>\n",
       "      <th>All</th>\n",
       "    </tr>\n",
       "    <tr>\n",
       "      <th>tech_support</th>\n",
       "      <th></th>\n",
       "      <th></th>\n",
       "      <th></th>\n",
       "    </tr>\n",
       "  </thead>\n",
       "  <tbody>\n",
       "    <tr>\n",
       "      <th>No</th>\n",
       "      <td>1173</td>\n",
       "      <td>817</td>\n",
       "      <td>1990</td>\n",
       "    </tr>\n",
       "    <tr>\n",
       "      <th>Yes</th>\n",
       "      <td>949</td>\n",
       "      <td>166</td>\n",
       "      <td>1115</td>\n",
       "    </tr>\n",
       "    <tr>\n",
       "      <th>All</th>\n",
       "      <td>2122</td>\n",
       "      <td>983</td>\n",
       "      <td>3105</td>\n",
       "    </tr>\n",
       "  </tbody>\n",
       "</table>\n",
       "</div>"
      ],
      "text/plain": [
       "churn         False  True   All\n",
       "tech_support                   \n",
       "No             1173   817  1990\n",
       "Yes             949   166  1115\n",
       "All            2122   983  3105"
      ]
     },
     "execution_count": 393,
     "metadata": {},
     "output_type": "execute_result"
    }
   ],
   "source": [
    "# creating an observation table of the dataframe\n",
    "\n",
    "observed = pd.crosstab(index = tech_support[\"tech_support\"], columns = tech_support[\"churn\"], margins = True)\n",
    "observed"
   ]
  },
  {
   "cell_type": "code",
   "execution_count": 394,
   "metadata": {},
   "outputs": [],
   "source": [
    "# running the ChiSquared Test\n",
    "\n",
    "chi, p_value, degf, exp_values = stats.chi2_contingency(observed)"
   ]
  },
  {
   "cell_type": "code",
   "execution_count": 395,
   "metadata": {},
   "outputs": [
    {
     "name": "stdout",
     "output_type": "stream",
     "text": [
      "chi = 226.15764143755223\n",
      "p_value = 8.865376103001764e-48\n",
      "degrees of freedom = 4 \n",
      "\n",
      "----- \n",
      " expected values: \n",
      " [[1359.99355878  630.00644122 1990.        ]\n",
      " [ 762.00644122  352.99355878 1115.        ]\n",
      " [2122.          983.         3105.        ]]\n"
     ]
    }
   ],
   "source": [
    "print(\"chi =\", chi)\n",
    "print(\"p_value =\", p_value)\n",
    "print(\"degrees of freedom =\", degf, \"\\n\")\n",
    "\n",
    "print(\"-----\",\"\\n\",\"expected values:\", \"\\n\", exp_values)"
   ]
  },
  {
   "cell_type": "code",
   "execution_count": 396,
   "metadata": {},
   "outputs": [
    {
     "name": "stdout",
     "output_type": "stream",
     "text": [
      "REJECT Null Hypothesis.\n"
     ]
    }
   ],
   "source": [
    "if p_value < alpha:\n",
    "    print(\"REJECT Null Hypothesis.\")\n",
    "else:\n",
    "    print(\"Fail to reject Null Hypothesis.\")"
   ]
  },
  {
   "cell_type": "markdown",
   "metadata": {},
   "source": [
    "**Conclusion:**\n",
    "\n",
    "1. Given the relatively low p-value in our ChiSquared Test - we can conclude with a 95% confidence interval in this dataset that there is an association/relationship between the \"tech support\" service option and a customer's decision to churn.\n",
    "   \n",
    "   *Tech Support Options (w/internet services):*\n",
    "   \n",
    "        - Yes (has tech support)\n",
    "        - No (doesn't have tech support)\n",
    "\n",
    "2. We will therefore carry this feature forward into future predictive modeling.\n",
    "\n",
    "----"
   ]
  },
  {
   "cell_type": "markdown",
   "metadata": {},
   "source": [
    "## Question #3: Does a customer’s “Payment Type” have an effect on their decision to churn?\n",
    "\n",
    "<u>**Hypothesis Formulation (payment types):**</u>\n",
    "\n",
    "$H_0$: \"There is NO association/relationship between customers' monthly bill payment options and their decision to churn.\"\n",
    "\n",
    "$H_a$: \"There IS an association/relationship between customers' monthly bill payment options and their decision to churn.\"\n",
    "\n",
    "\n",
    "$\\alpha$: 0.05\n",
    "\n",
    "----"
   ]
  },
  {
   "cell_type": "code",
   "execution_count": 397,
   "metadata": {},
   "outputs": [],
   "source": [
    "alpha = 0.05"
   ]
  },
  {
   "cell_type": "code",
   "execution_count": 399,
   "metadata": {},
   "outputs": [
    {
     "data": {
      "text/plain": [
       "array(['Mailed Check', 'Credit Card (automatic)', 'E-Check',\n",
       "       'Bank Transfer (automatic'], dtype=object)"
      ]
     },
     "execution_count": 399,
     "metadata": {},
     "output_type": "execute_result"
    }
   ],
   "source": [
    "train[\"payment_type\"].unique()"
   ]
  },
  {
   "cell_type": "code",
   "execution_count": 401,
   "metadata": {},
   "outputs": [
    {
     "data": {
      "text/html": [
       "<div>\n",
       "<style scoped>\n",
       "    .dataframe tbody tr th:only-of-type {\n",
       "        vertical-align: middle;\n",
       "    }\n",
       "\n",
       "    .dataframe tbody tr th {\n",
       "        vertical-align: top;\n",
       "    }\n",
       "\n",
       "    .dataframe thead th {\n",
       "        text-align: right;\n",
       "    }\n",
       "</style>\n",
       "<table border=\"1\" class=\"dataframe\">\n",
       "  <thead>\n",
       "    <tr style=\"text-align: right;\">\n",
       "      <th></th>\n",
       "      <th>count</th>\n",
       "      <th>mean</th>\n",
       "      <th>std</th>\n",
       "      <th>min</th>\n",
       "      <th>25%</th>\n",
       "      <th>50%</th>\n",
       "      <th>75%</th>\n",
       "      <th>max</th>\n",
       "    </tr>\n",
       "  </thead>\n",
       "  <tbody>\n",
       "    <tr>\n",
       "      <th>tenure</th>\n",
       "      <td>3943.0</td>\n",
       "      <td>32.531829</td>\n",
       "      <td>24.542655</td>\n",
       "      <td>0.0</td>\n",
       "      <td>9.000</td>\n",
       "      <td>29.00</td>\n",
       "      <td>56.000</td>\n",
       "      <td>72.0</td>\n",
       "    </tr>\n",
       "    <tr>\n",
       "      <th>monthly_charges</th>\n",
       "      <td>3943.0</td>\n",
       "      <td>65.119883</td>\n",
       "      <td>30.023920</td>\n",
       "      <td>18.4</td>\n",
       "      <td>38.175</td>\n",
       "      <td>70.60</td>\n",
       "      <td>90.050</td>\n",
       "      <td>118.6</td>\n",
       "    </tr>\n",
       "    <tr>\n",
       "      <th>total_charges</th>\n",
       "      <td>3943.0</td>\n",
       "      <td>2313.859067</td>\n",
       "      <td>2284.689172</td>\n",
       "      <td>18.8</td>\n",
       "      <td>402.725</td>\n",
       "      <td>1415.55</td>\n",
       "      <td>3840.675</td>\n",
       "      <td>8684.8</td>\n",
       "    </tr>\n",
       "  </tbody>\n",
       "</table>\n",
       "</div>"
      ],
      "text/plain": [
       "                  count         mean          std   min      25%      50%  \\\n",
       "tenure           3943.0    32.531829    24.542655   0.0    9.000    29.00   \n",
       "monthly_charges  3943.0    65.119883    30.023920  18.4   38.175    70.60   \n",
       "total_charges    3943.0  2313.859067  2284.689172  18.8  402.725  1415.55   \n",
       "\n",
       "                      75%     max  \n",
       "tenure             56.000    72.0  \n",
       "monthly_charges    90.050   118.6  \n",
       "total_charges    3840.675  8684.8  "
      ]
     },
     "execution_count": 401,
     "metadata": {},
     "output_type": "execute_result"
    }
   ],
   "source": [
    "# since I am measuring all payment options impact on churn, i will not need to create a new dataframe\n",
    "# generating summary statistics \n",
    "\n",
    "summary_stats = train.describe().T\n",
    "summary_stats"
   ]
  },
  {
   "cell_type": "code",
   "execution_count": 402,
   "metadata": {},
   "outputs": [
    {
     "data": {
      "text/html": [
       "<div>\n",
       "<style scoped>\n",
       "    .dataframe tbody tr th:only-of-type {\n",
       "        vertical-align: middle;\n",
       "    }\n",
       "\n",
       "    .dataframe tbody tr th {\n",
       "        vertical-align: top;\n",
       "    }\n",
       "\n",
       "    .dataframe thead th {\n",
       "        text-align: right;\n",
       "    }\n",
       "</style>\n",
       "<table border=\"1\" class=\"dataframe\">\n",
       "  <thead>\n",
       "    <tr style=\"text-align: right;\">\n",
       "      <th></th>\n",
       "      <th>count</th>\n",
       "      <th>mean</th>\n",
       "      <th>std</th>\n",
       "      <th>min</th>\n",
       "      <th>25%</th>\n",
       "      <th>50%</th>\n",
       "      <th>75%</th>\n",
       "      <th>max</th>\n",
       "      <th>range</th>\n",
       "    </tr>\n",
       "  </thead>\n",
       "  <tbody>\n",
       "    <tr>\n",
       "      <th>tenure</th>\n",
       "      <td>3943.0</td>\n",
       "      <td>32.531829</td>\n",
       "      <td>24.542655</td>\n",
       "      <td>0.0</td>\n",
       "      <td>9.000</td>\n",
       "      <td>29.00</td>\n",
       "      <td>56.000</td>\n",
       "      <td>72.0</td>\n",
       "      <td>72.0</td>\n",
       "    </tr>\n",
       "    <tr>\n",
       "      <th>monthly_charges</th>\n",
       "      <td>3943.0</td>\n",
       "      <td>65.119883</td>\n",
       "      <td>30.023920</td>\n",
       "      <td>18.4</td>\n",
       "      <td>38.175</td>\n",
       "      <td>70.60</td>\n",
       "      <td>90.050</td>\n",
       "      <td>118.6</td>\n",
       "      <td>100.2</td>\n",
       "    </tr>\n",
       "    <tr>\n",
       "      <th>total_charges</th>\n",
       "      <td>3943.0</td>\n",
       "      <td>2313.859067</td>\n",
       "      <td>2284.689172</td>\n",
       "      <td>18.8</td>\n",
       "      <td>402.725</td>\n",
       "      <td>1415.55</td>\n",
       "      <td>3840.675</td>\n",
       "      <td>8684.8</td>\n",
       "      <td>8666.0</td>\n",
       "    </tr>\n",
       "  </tbody>\n",
       "</table>\n",
       "</div>"
      ],
      "text/plain": [
       "                  count         mean          std   min      25%      50%  \\\n",
       "tenure           3943.0    32.531829    24.542655   0.0    9.000    29.00   \n",
       "monthly_charges  3943.0    65.119883    30.023920  18.4   38.175    70.60   \n",
       "total_charges    3943.0  2313.859067  2284.689172  18.8  402.725  1415.55   \n",
       "\n",
       "                      75%     max   range  \n",
       "tenure             56.000    72.0    72.0  \n",
       "monthly_charges    90.050   118.6   100.2  \n",
       "total_charges    3840.675  8684.8  8666.0  "
      ]
     },
     "execution_count": 402,
     "metadata": {},
     "output_type": "execute_result"
    }
   ],
   "source": [
    "# creating a \"range\" column for this dataset\n",
    "\n",
    "summary_stats[\"range\"] = summary_stats[\"max\"] - summary_stats[\"min\"]\n",
    "summary_stats"
   ]
  },
  {
   "cell_type": "code",
   "execution_count": 411,
   "metadata": {},
   "outputs": [
    {
     "data": {
      "text/plain": [
       "[Text(0, 0, '1350'), Text(0, 0, '890'), Text(0, 0, '868'), Text(0, 0, '835')]"
      ]
     },
     "execution_count": 411,
     "metadata": {},
     "output_type": "execute_result"
    },
    {
     "data": {
      "image/png": "[encoded data removed]",
      "text/plain": [
       "<Figure size 1080x576 with 1 Axes>"
      ]
     },
     "metadata": {},
     "output_type": "display_data"
    }
   ],
   "source": [
    "plt.figure(figsize=(15, 8))\n",
    "ax = sns.countplot(x = \"payment_type\", \n",
    "    data = train,\n",
    "    order = train[\"payment_type\"].value_counts().index,\n",
    "    palette = \"crest\")\n",
    "\n",
    "ax.bar_label(ax.containers[0])"
   ]
  },
  {
   "cell_type": "code",
   "execution_count": null,
   "metadata": {},
   "outputs": [],
   "source": []
  }
 ],
 "metadata": {
  "kernelspec": {
   "display_name": "Python 3.9.12 ('base')",
   "language": "python",
   "name": "python3"
  },
  "language_info": {
   "codemirror_mode": {
    "name": "ipython",
    "version": 3
   },
   "file_extension": ".py",
   "mimetype": "text/x-python",
   "name": "python",
   "nbconvert_exporter": "python",
   "pygments_lexer": "ipython3",
   "version": "3.9.12"
  },
  "orig_nbformat": 4,
  "vscode": {
   "interpreter": {
    "hash": "40d3a090f54c6569ab1632332b64b2c03c39dcf918b08424e98f38b5ae0af88f"
   }
  }
 },
 "nbformat": 4,
 "nbformat_minor": 2
}
